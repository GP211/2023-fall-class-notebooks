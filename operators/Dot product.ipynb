{
 "cells": [
  {
   "cell_type": "markdown",
   "id": "390e0bb4-844b-45ed-a708-b4c41fa43f86",
   "metadata": {
    "jp-MarkdownHeadingCollapsed": true
   },
   "source": [
    "# Dot Product Test\n",
    "\n",
    "The dot product test is a validation tool used primarily in the realm of computational algorithms, especially those associated with solving linear systems or optimization problems.\n",
    "\n",
    "## Concept\n",
    "\n",
    "Given two operators \\( A \\) and \\( A^* \\) (where \\( A^* \\) is the adjoint of \\( A \\)), and two random vectors \\( x \\) and \\( y \\), the dot product test checks the following equality:\n",
    "\n",
    "\\[ \\langle Ax, y \\rangle = \\langle x, A^*y \\rangle \\]\n",
    "\n",
    "Where:\n",
    "- \\( \\langle ., . \\rangle \\) denotes the dot product.\n",
    "- \\( Ax \\) is the result of applying operator \\( A \\) to vector \\( x \\).\n",
    "- \\( A^*y \\) is the result of applying the adjoint of operator \\( A \\) to vector \\( y \\).\n",
    "\n",
    "## Significance\n",
    "\n",
    "If the above equality holds true for various random vectors \\( x \\) and \\( y \\), it's a strong indication that the implemented adjoint (or transposed) operator \\( A^* \\) is correct. This test is particularly useful in iterative methods where both the operator and its adjoint are used, and correctness is essential for convergence.\n",
    "\n",
    "## Steps\n",
    "\n",
    "1. Choose random vectors \\( x \\) and \\( y \\).\n",
    "2. Compute \\( \\langle Ax, y \\rangle \\) and \\( \\langle x, A^*y \\rangle \\).\n",
    "3. Compare the two results. They should be equal (or very close, considering computational precision).\n",
    "\n",
    "Remember, a successful dot product test usually implies the adjoint operator is correctly implemented, but it doesn't validate the correctness of the primary operator \\( A \\).\n"
   ]
  },
  {
   "cell_type": "code",
   "execution_count": null,
   "id": "93b9eca2-baf0-458c-bb30-05c1c6cede22",
   "metadata": {},
   "outputs": [],
   "source": [
    "%load_ext autoreload\n",
    "%autoreload 2\n",
    "import sys\n",
    "\n",
    "! pip install  \"sep_plot @ git+https://github.com/SEP-software/sep-plot.git@3fac86108f59c822193cbd6f28687fecce5e298b\" \n",
    "import generic_solver\n"
   ]
  },
  {
   "cell_type": "code",
   "execution_count": 24,
   "id": "a74a8acc-81ec-4547-b473-fff7a2b5c181",
   "metadata": {},
   "outputs": [],
   "source": [
    "\n",
    "\n",
    "\n",
    "def test_dot(oper):\n",
    "    mod1=oper.domain.clone()\n",
    "    mod2=mod1.clone()\n",
    "    dat1=oper.range.clone()\n",
    "    dat2=dat1.clone()\n",
    "\n",
    "    mod1.rand()\n",
    "    dat1.rand()\n",
    "\n",
    "    oper.forward(False,mod1,dat2)\n",
    "    oper.adjoint(False,mod2,dat1)\n",
    "\n",
    "    dot1=mod1.dot(mod2)\n",
    "    dot2=dat1.dot(dat2)\n",
    "    if abs((dot1-dot2)/dot2 > 1e-6):\n",
    "        print(dot1,dot2)\n",
    "        raise Exception(\"Failed product false add=False\")\n",
    "    oper.forward(True,mod1,dat2)\n",
    "    oper.adjoint(True,mod2,dat1)\n",
    "\n",
    "    dot1=mod1.dot(mod2)\n",
    "    dot2=dat1.dot(dat2)\n",
    "\n",
    "    if abs((dot1-dot2)/dot2 > 1e-6):\n",
    "        print(dot1,dot2)\n",
    "        raise Exception(\"Failed dot product false add=True\")"
   ]
  },
  {
   "cell_type": "code",
   "execution_count": 31,
   "id": "d5857aaf-fe13-4602-b276-2e30ab0c17c2",
   "metadata": {},
   "outputs": [],
   "source": [
    "class BoxcarF(Operator):\n",
    "\n",
    "    def __init__(self, mod, dat,halflen):\n",
    "        \"\"\"\n",
    "        Initialize a boxcar convolution (smoothing)\n",
    "\n",
    "            mod, dat - sepVector\n",
    "            halflen - Half length of smoothing box\n",
    "        \"\"\"\n",
    "        super().__init__(mod, dat)\n",
    "        if not isinstance(mod, FloatVector) or not isinstance(dat,FloatVector):\n",
    "            raise Exception(\"Expecting model, data, flt to be sepVectors\")\n",
    "        self._halflen=halflen\n",
    "        self._nd=dat.get_hyper().axes[0].n\n",
    "\n",
    "\n",
    "    def forward(self, add, mod, dat):\n",
    "        \"\"\"\n",
    "        Forward operation\n",
    "        \"\"\"\n",
    "        self.checkDomainRange(mod, dat)\n",
    "        if not add:\n",
    "            dat.zero()\n",
    "        sc=1./(1+2.*self._halflen)\n",
    "        for i in range(self._nd):\n",
    "            tmp=0\n",
    "            for ib in range(i-self._halflen,i+self._halflen+1):\n",
    "                tmp+=mod[max(0,min(self._nd-1,ib))]\n",
    "            dat[i]+=tmp/sc\n",
    "\n",
    "\n",
    "    def adjoint(self, add, mod, dat):\n",
    "        \"\"\"\n",
    "        Adjoint operation.\n",
    "        \"\"\"\n",
    "        self.checkDomainRange(mod, dat)\n",
    "        if not add:\n",
    "            mod.zero()\n",
    "        \n",
    "        sc=1./(1+2.*self._halflen)\n",
    "        for i in range(self._nd):\n",
    "            tmp=0\n",
    "            for ib in range(i-self._halflen,i+self._halflen+1):\n",
    "                mod[max(0,min(self._nd-1,ib))]+=dat[i]/sc\n",
    "    \n"
   ]
  },
  {
   "cell_type": "code",
   "execution_count": 32,
   "id": "0c79011f-c7eb-42c3-9a51-e120f534c593",
   "metadata": {},
   "outputs": [
    {
     "name": "stdout",
     "output_type": "stream",
     "text": [
      "-387.22397 -387.22394\n"
     ]
    }
   ],
   "source": [
    "from sep_python import get_sep_vector\n",
    "import numpy as np\n",
    "vec=get_sep_vector(np.zeros((30,),dtype=np.float32))\n",
    "box_op=BoxcarF(vec,vec,10)\n",
    "test_dot(box_op)"
   ]
  },
  {
   "cell_type": "code",
   "execution_count": null,
   "id": "5bc84da4-93b1-41b2-9f1a-1daa779f2c96",
   "metadata": {},
   "outputs": [],
   "source": []
  },
  {
   "cell_type": "code",
   "execution_count": null,
   "id": "de9d8a51-8456-4b26-b065-51b0cce73d19",
   "metadata": {},
   "outputs": [],
   "source": []
  }
 ],
 "metadata": {
  "kernelspec": {
   "display_name": "Python 3 (ipykernel)",
   "language": "python",
   "name": "python3"
  },
  "language_info": {
   "codemirror_mode": {
    "name": "ipython",
    "version": 3
   },
   "file_extension": ".py",
   "mimetype": "text/x-python",
   "name": "python",
   "nbconvert_exporter": "python",
   "pygments_lexer": "ipython3",
   "version": "3.9.9"
  }
 },
 "nbformat": 4,
 "nbformat_minor": 5
}
