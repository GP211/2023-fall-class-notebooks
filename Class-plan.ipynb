{
 "cells": [
  {
   "cell_type": "markdown",
   "id": "36cb6d24-2708-474a-90ce-235d815ef0a0",
   "metadata": {},
   "source": [
    "# Class plan"
   ]
  },
  {
   "cell_type": "markdown",
   "id": "d4cd102a-a5da-4ae0-96dc-697c09089dd2",
   "metadata": {},
   "source": [
    "## Topics to cover\n",
    "\n",
    "- Building tools part 1\n",
    "    - Adjoints\n",
    "    - Operators\n",
    "    - Object-oriented python\n",
    "    - Efficient python\n",
    "    - Dot-product test\n",
    "- Model fitting by least squares\n",
    "    - Univariate least squares\n",
    "    - Multivariate least squares\n",
    "    - Krylov space methods\n",
    "    - Writing a solver\n",
    "        - Random directions\n",
    "        - Steepest descent\n",
    "        - Conjugate directions\n",
    "- Regularization\n",
    "    - Null spaces\n",
    "    - Model covariance\n",
    "    - Data fitting vs Model styling\n",
    "    - Understanding the residual vectors\n",
    "- Preconditioning and model reparameteriation\n",
    "    - Faster convergence\n",
    "    - Limiting your model space\n",
    "- Prediction Error Filters\n",
    "    - Estimating model covariance\n",
    "    - Incorporating model covariance\n",
    "- Non L-2 Norms\n",
    "  - Hypbrid norms\n",
    "  - L1 norm\n",
    "  - Split Bragman\n",
    "  - L0 norm\n",
    "  - Noisy data\n",
    "  - Compressive sensing\n",
    "  - Non-linear problems\n",
    "- Machine learning and inversion\n",
    "\n",
    "\n",
    "\n",
    "\n",
    "\n",
    "    "
   ]
  },
  {
   "cell_type": "markdown",
   "id": "24127997-3e74-4efe-8311-ea538271ba74",
   "metadata": {},
   "source": [
    "## How the class operates\n",
    "\n",
    "- Grading is based on labs (6-7)\n",
    "- Approximately once a week class will be a lab section\n",
    "- Class material\n",
    "  - Textbook we will looosly follow\n",
    "  - Youtube videos pointers to various topics\n",
    "- Much of class will be working through examples that demonstrate class content\n",
    "  - Writing code\n",
    "  - Working through example inversion problems"
   ]
  },
  {
   "cell_type": "markdown",
   "id": "84d97807-2426-48db-b2f1-e2b8ea303bf1",
   "metadata": {},
   "source": [
    "## Week 1\n",
    "\n",
    "### Wednesday, September 27th\n",
    "    - Operators\n",
    "        - Matricies\n",
    "        - Symbolic representation\n",
    "        - Code\n",
    "    - Adjoints\n",
    "        - How to write the ajoint given a forward operator\n",
    "    - Object oriented code\n",
    "        - Writing an abstract vector class\n",
    "\n",
    "### Useful resources\n",
    "    - Adjoints and operators \n",
    "        - Chapter 1 of Earth Soudings Analysis\n",
    "    - Object oriented python\n",
    "        - https://realpython.com/python3-object-oriented-programming/\n",
    "        - https://www.youtube.com/watch?v=JeznW_7DlB0\n",
    "    - Numba\n",
    "        - https://numba.pydata.org/\n",
    "        - https://www.youtube.com/watch?v=bZ5G-RZoE6Q\n",
    "### What is up next\n",
    "\n",
    "    - Object oriented coding\n",
    "        - Writing a concrete vector class for numpy arrays\n",
    "        - Writing an abstract operator class\n",
    "    - Writing and applying our first operators\n",
    "        - numba introduction\n",
    "        - Derivatives applied to satellite images of the bay area\n",
    "        - Nearest-neighbor binning to the Sea of Galilee\n",
    "        - Linear interpolation binning to the Sea of Galilee\n",
    "        - Convolution\n",
    "            - Internal and transient\n",
    "    - Combining operators\n",
    "        - Operator chains and arrays\n",
    "    - Dot product test\n",
    "\n",
    "    "
   ]
  },
  {
   "cell_type": "code",
   "execution_count": null,
   "id": "9eb3b6fb-942b-4e90-880b-a7535bfcff17",
   "metadata": {},
   "outputs": [],
   "source": []
  }
 ],
 "metadata": {
  "kernelspec": {
   "display_name": "Python 3 (ipykernel)",
   "language": "python",
   "name": "python3"
  },
  "language_info": {
   "codemirror_mode": {
    "name": "ipython",
    "version": 3
   },
   "file_extension": ".py",
   "mimetype": "text/x-python",
   "name": "python",
   "nbconvert_exporter": "python",
   "pygments_lexer": "ipython3",
   "version": "3.9.9"
  }
 },
 "nbformat": 4,
 "nbformat_minor": 5
}
