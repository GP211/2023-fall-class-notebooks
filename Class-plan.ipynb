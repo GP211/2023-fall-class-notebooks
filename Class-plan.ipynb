{
 "cells": [
  {
   "cell_type": "markdown",
   "id": "36cb6d24-2708-474a-90ce-235d815ef0a0",
   "metadata": {},
   "source": [
    "# Class plan"
   ]
  },
  {
   "cell_type": "markdown",
   "id": "d4cd102a-a5da-4ae0-96dc-697c09089dd2",
   "metadata": {},
   "source": [
    "## Topics to cover\n",
    "\n",
    "- Building tools part 1\n",
    "    - Adjoints\n",
    "    - Operators\n",
    "    - Object-oriented python\n",
    "    - Efficient python\n",
    "    - Dot-product test\n",
    "- Model fitting by least squares\n",
    "    - Univariate least squares\n",
    "    - Multivariate least squares\n",
    "    - Krylov space methods\n",
    "    - Writing a solver\n",
    "        - Random directions\n",
    "        - Steepest descent\n",
    "        - Conjugate directions\n",
    "- Regularization\n",
    "    - Null spaces\n",
    "    - Model covariance\n",
    "    - Data fitting vs Model styling\n",
    "    - Understanding the residual vectors\n",
    "- Preconditioning and model reparameteriation\n",
    "    - Faster convergence\n",
    "    - Limiting your model space\n",
    "- Prediction Error Filters\n",
    "    - Estimating model covariance\n",
    "    - Incorporating model covariance\n",
    "- Non L-2 Norms\n",
    "  - Hypbrid norms\n",
    "  - L1 norm\n",
    "  - Split Bragman\n",
    "  - L0 norm\n",
    "  - Noisy data\n",
    "  - Compressive sensing\n",
    "  - Non-linear problems\n",
    "- Machine learning and inversion\n",
    "\n",
    "\n",
    "\n",
    "\n",
    "\n",
    "    "
   ]
  },
  {
   "cell_type": "markdown",
   "id": "24127997-3e74-4efe-8311-ea538271ba74",
   "metadata": {},
   "source": [
    "## How the class operates\n",
    "\n",
    "- Grading is based on labs (6-7)\n",
    "- Approximately once a week class will be a lab section\n",
    "- Class material\n",
    "  - Textbook we will looosly follow\n",
    "  - Youtube videos pointers to various topics\n",
    "- Much of class will be working through examples that demonstrate class content\n",
    "  - Writing code\n",
    "  - Working through example inversion problems"
   ]
  },
  {
   "cell_type": "markdown",
   "id": "2bfebed2-ad5f-4bbf-8936-b9fe2d7fe3a9",
   "metadata": {},
   "source": [
    "## Week 1\n",
    "\n",
    "### Wednesday, September 27th\n",
    "    - Operators\n",
    "        - Matricies\n",
    "        - Symbolic representation\n",
    "        - Code\n",
    "    - Adjoints\n",
    "        - How to write the ajoint given a forward operator\n",
    "    - Object oriented code\n",
    "        - Writing an abstract vector class\n",
    "### Friday, September 29th\n",
    "    - Writing an abstract vector class for numpy arrays\n",
    "    - Writing a concrete class for 1-D vector\n",
    "    - Writing a base class for an Operator"
   ]
  },
  {
   "cell_type": "code",
   "execution_count": null,
   "id": "4dda75f0-f908-47bd-8bfa-ea264a2ea0a0",
   "metadata": {},
   "outputs": [],
   "source": []
  },
  {
   "cell_type": "markdown",
   "id": "287d036a-a1f2-429d-af52-22b54b082c9c",
   "metadata": {},
   "source": [
    "### Useful resources (week 1)\n",
    "    - Adjoints and operators \n",
    "        - Chapter 1 of Earth Soudings Analysis\n",
    "    - Object oriented python\n",
    "        - https://realpython.com/python3-object-oriented-programming/\n",
    "        - https://www.youtube.com/watch?v=JeznW_7DlB0\n",
    "    - Numba\n",
    "        - https://numba.pydata.org/\n",
    "        - https://www.youtube.com/watch?v=bZ5G-RZoE6Q\n",
    "    - Operators and Adjoints from a Diff. Eqns. Point of View, Info on Null Space: Linear Operators and their Adjoints\n",
    "        - https://www.youtube.com/watch?v=aG5tFA8GJ78\n",
    "    - Code Examples of Forward and Adjoint Operations in FWI: \n",
    "        - https://www.researchgate.net/publication/332049082_Devito_v310_An_embedded_domain-specific_language_for_finite_differences_and_geophysical_exploration\n",
    "    - Pylops: An Example of an operator and optimization package. Has a similar forward, adjoint, and class defined operator structure that we use in class. \n",
    "        - Paper Describing the Work: https://www.sciencedirect.com/science/article/pii/S2352711019301086\n",
    "        - Package Website: https://pylops.readthedocs.io/en/latest/index.html"
   ]
  },
  {
   "cell_type": "markdown",
   "id": "f498e71a-cadc-4014-a4d9-05902bdb7195",
   "metadata": {},
   "source": [
    "## Week 2\n",
    "\n",
    "### Monday, October 2nd\n",
    "    - First operator example\n",
    "        - Matrix multiplication\n",
    "    - Beginning to use the class framework\n",
    "        - Loading data from storage\n",
    "        - Dislaying\n",
    "        - Write forward/adjoing first derivative\n",
    "        - Different methods to speed up calculation\n",
    "            - Numpy vectors\n",
    "            - Numba\n",
    "\n",
    "         "
   ]
  },
  {
   "cell_type": "code",
   "execution_count": null,
   "id": "2ee79769-6cce-440d-8ab8-2b599c11a4db",
   "metadata": {},
   "outputs": [],
   "source": [
    "### Useful resources (week 1)\n",
    "    - Adjoints and operators \n",
    "        - Chapter 1 of Earth Soudings Analysis\n",
    "    - Numba\n",
    "        - https://numba.pydata.org/\n",
    "        - https://www.youtube.com/watch?v=bZ5G-RZoE6Q\n",
    "    - Operators and Adjoints from a Diff. Eqns. Point of View, Info on Null Space: Linear Operators and their Adjoints\n",
    "        - https://www.youtube.com/watch?v=aG5tFA8GJ78\n",
    "    - Code Examples of Forward and Adjoint Operations in FWI: \n",
    "        - https://www.researchgate.net/publication/332049082_Devito_v310_An_embedded_domain-specific_language_for_finite_differences_and_geophysical_exploration\n",
    "    - Pylops: An Example of an operator and optimization package. Has a similar forward, adjoint, and class defined operator structure that we use in class. \n",
    "        - Paper Describing the Work: https://www.sciencedirect.com/science/article/pii/S2352711019301086\n",
    "        - Package Website: https://pylops.readthedocs.io/en/latest/index.html"
   ]
  },
  {
   "cell_type": "markdown",
   "id": "d8f5af75-cb4e-46d4-91bd-1fc11c48c859",
   "metadata": {},
   "source": [
    "### What is up next\n",
    "\n",
    "    - Review matrix multiple operator\n",
    "    - Writing and applying our first operators\n",
    "        - Nearest-neighbor binning to the Sea of Galilee\n",
    "        - Linear interpolation binning to the Sea of Galilee\n",
    "        - Convolution\n",
    "            - Internal and transient\n",
    "    - Combining operators\n",
    "        - Operator chains and arrays\n",
    "    - Dot product test\n",
    "\n",
    "    - Single parameter inversion"
   ]
  }
 ],
 "metadata": {
  "kernelspec": {
   "display_name": "Python 3 (ipykernel)",
   "language": "python",
   "name": "python3"
  },
  "language_info": {
   "codemirror_mode": {
    "name": "ipython",
    "version": 3
   },
   "file_extension": ".py",
   "mimetype": "text/x-python",
   "name": "python",
   "nbconvert_exporter": "python",
   "pygments_lexer": "ipython3",
   "version": "3.9.9"
  }
 },
 "nbformat": 4,
 "nbformat_minor": 5
}
