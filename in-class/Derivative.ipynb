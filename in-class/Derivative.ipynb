{
 "cells": [
  {
   "cell_type": "markdown",
   "id": "44dfc8e8-7179-4800-b3a3-acdc2e38a147",
   "metadata": {},
   "source": [
    "# Our first operator in starting to use the software stack"
   ]
  },
  {
   "cell_type": "code",
   "execution_count": null,
   "id": "9bfb690e-c9c2-4bb4-8c94-1f91eec73083",
   "metadata": {},
   "outputs": [],
   "source": []
  }
 ],
 "metadata": {
  "kernelspec": {
   "display_name": "Python 3 (ipykernel)",
   "language": "python",
   "name": "python3"
  },
  "language_info": {
   "codemirror_mode": {
    "name": "ipython",
    "version": 3
   },
   "file_extension": ".py",
   "mimetype": "text/x-python",
   "name": "python",
   "nbconvert_exporter": "python",
   "pygments_lexer": "ipython3",
   "version": "3.9.9"
  }
 },
 "nbformat": 4,
 "nbformat_minor": 5
}
