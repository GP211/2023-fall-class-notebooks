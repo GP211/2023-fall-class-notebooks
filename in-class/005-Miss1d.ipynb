{
 "cells": [
  {
   "cell_type": "markdown",
   "metadata": {
    "colab_type": "text",
    "id": "view-in-github"
   },
   "source": [
    "<a href=\"https://colab.research.google.com/github/rgclapp007/gp211-class-notebooks/blob/main/regularization/006-Missing-data-2d.ipynb\" target=\"_parent\"><img src=\"https://colab.research.google.com/assets/colab-badge.svg\" alt=\"Open In Colab\"/></a>"
   ]
  },
  {
   "cell_type": "code",
   "execution_count": null,
   "metadata": {
    "colab": {
     "base_uri": "https://localhost:8080/"
    },
    "id": "8coMDS_iptYt",
    "outputId": "e7d9b360-fcca-46ee-e8b5-ac7e55f1e67e"
   },
   "outputs": [],
   "source": [
    "%load_ext autoreload\n",
    "%autoreload 2\n",
    "import sys\n",
    "#!python -m pip install \"sep_plot @ git+http://zapad.stanford.edu/bob/pySepPlot.git@2bffacb9fb36963339a0834c2b04a0aedff91db4\"\n"
   ]
  },
  {
   "cell_type": "code",
   "execution_count": null,
   "metadata": {
    "colab": {
     "base_uri": "https://localhost:8080/"
    },
    "id": "mmdHmQuwzOw1",
    "outputId": "a682d464-8e95-425d-f77e-405e1abf53fb"
   },
   "outputs": [],
   "source": [
    "import numba\n",
    "from generic_solver._pyOperator import Operator\n",
    "from sep_python import FloatVector,get_sep_vector\n",
    "import numpy as np\n",
    "from giee import Tconv\n"
   ]
  },
  {
   "cell_type": "code",
   "execution_count": null,
   "metadata": {},
   "outputs": [],
   "source": [
    "from generic_solver import ProblemL2Linear, LCGsolver, BasicStopper\n",
    "import holoviews as hv\n",
    "hv.extension('bokeh','matplotlib')\n",
    "from sep_plot import Dots\n",
    "\n",
    "def estimate_1d(inp,filt):\n",
    "  model=inp.clone()\n",
    "  nm=model.get_hyper().get_ns()\n",
    "  data=get_sep_vector(ns=[nm[0]+filt.shape[0]-1])\n",
    "  unknown=model.clone()\n",
    "  un=unknown.get_nd_array()\n",
    "  un[:]=1\n",
    "  for ival,val in enumerate(model.get_nd_array()):\n",
    "    if val !=0:\n",
    "      un[ival]=0\n",
    "  \n",
    "  op=Tconv(model,data,filt)\n",
    "  prob=ProblemL2Linear(model,data,op,grad_mask=unknown)\n",
    "  stop=BasicStopper(niter=nm[0])\n",
    "  solve=LCGsolver(stop)\n",
    "  solve.run(prob)\n",
    "  return Dots(inp)+Dots(model)+Dots(filt)\n",
    "\n",
    "\n",
    "\n",
    "\n",
    "\n"
   ]
  },
  {
   "cell_type": "code",
   "execution_count": null,
   "metadata": {
    "colab": {
     "base_uri": "https://localhost:8080/",
     "height": 367
    },
    "id": "K_1ux-sudnEJ",
    "outputId": "10ad54ae-3f35-43b5-bfac-0f5d0cfeb1b6"
   },
   "outputs": [],
   "source": [
    "import holoviews as hv\n",
    "hv.extension('bokeh','matplotlib')\n",
    "inp=get_sep_vector(np.array([0.,0.,0.,0.,.5,0.,1.,.5,1.,0.,0.,0.,0.,0.,0.],dtype=np.float32))\n",
    "filt=np.array([1,-1.])\n",
    "est=estimate_1d(inp,filt)\n",
    "est"
   ]
  },
  {
   "cell_type": "code",
   "execution_count": null,
   "metadata": {
    "colab": {
     "base_uri": "https://localhost:8080/",
     "height": 42
    },
    "id": "u-AlI8zkdtCc",
    "outputId": "33cf98d9-a1a1-42d6-8e53-902e3e3bb8cf"
   },
   "outputs": [],
   "source": []
  },
  {
   "cell_type": "code",
   "execution_count": null,
   "metadata": {
    "colab": {
     "base_uri": "https://localhost:8080/",
     "height": 402
    },
    "id": "6pf3C2WviPJZ",
    "outputId": "a368c89b-0489-4b72-ae01-d53ced6aa568"
   },
   "outputs": [],
   "source": [
    "%xmode verbose\n",
    "\n",
    "import holoviews as hv\n",
    "hv.extension('bokeh','matplotlib')\n",
    "filt=np.array([1.,-2.,1.])\n",
    "print(type(inp),type(filt))\n",
    "estimate_1d(inp,filt)"
   ]
  },
  {
   "cell_type": "code",
   "execution_count": null,
   "metadata": {
    "colab": {
     "base_uri": "https://localhost:8080/",
     "height": 384
    },
    "id": "ViXR_twyk6hx",
    "outputId": "0667d242-67a6-48d9-f44a-997a3c9f9e30"
   },
   "outputs": [],
   "source": [
    "import holoviews as hv\n",
    "hv.extension('bokeh','matplotlib')\n",
    "filt=np.array([1.,1.])\n",
    "print(type(inp),type(filt))\n",
    "estimate_1d(inp,filt)"
   ]
  },
  {
   "cell_type": "code",
   "execution_count": null,
   "metadata": {
    "colab": {
     "base_uri": "https://localhost:8080/",
     "height": 384
    },
    "id": "wZszac5h7Gag",
    "outputId": "e7b31c6e-24c2-4448-cb65-dae06892f0a6"
   },
   "outputs": [],
   "source": [
    "import holoviews as hv\n",
    "hv.extension('bokeh','matplotlib')\n",
    "filt=np.array([1.,2.,3.])\n",
    "print(type(inp),type(filt))\n",
    "estimate_1d(inp,filt)"
   ]
  },
  {
   "cell_type": "code",
   "execution_count": null,
   "metadata": {
    "colab": {
     "base_uri": "https://localhost:8080/",
     "height": 384
    },
    "id": "F5eNQv9cry55",
    "outputId": "4e58fe3b-5faa-40ce-f689-33738a96a86e"
   },
   "outputs": [],
   "source": [
    "import holoviews as hv\n",
    "hv.extension('bokeh','matplotlib')\n",
    "filt=np.array([3.,2.,1.])\n",
    "print(type(inp),type(filt))\n",
    "estimate_1d(inp,filt)"
   ]
  },
  {
   "cell_type": "code",
   "execution_count": null,
   "metadata": {
    "colab": {
     "base_uri": "https://localhost:8080/",
     "height": 42
    },
    "id": "AyftHlsZr725",
    "outputId": "bfed613b-3747-4d2b-fd45-1bbdf53d0e68"
   },
   "outputs": [],
   "source": [
    "def estimate_model(inp,filt):\n",
    "  model=inp.clone()\n",
    "  nm=model.get_hyper().get_ns()\n",
    "  data=get_sep_vector(ns=[nm[0]+filt.shape[0]-1])\n",
    "  unknown=model.clone()\n",
    "  un=unknown.get_nd_array()\n",
    "  un[:]=1\n",
    "  for ival,val in enumerate(model.get_nd_array()):\n",
    "    if val !=0:\n",
    "      un[ival]=0\n",
    "  \n",
    "  op=Tconv(model,data,filt)\n",
    "  prob=ProblemL2Linear(model,data,op,grad_mask=unknown)\n",
    "  stop=BasicStopper(niter=nm[0])\n",
    "  solve=LCGsolver(stop)\n",
    "  solve.setDefaults(save_obj=True,save_res=True,save_model=True)\n",
    "  solve.run(prob)\n",
    "  return prob,solve\n",
    "\n",
    "import holoviews as hv\n",
    "hv.extension('bokeh','matplotlib')\n",
    "inp=get_sep_vector(np.array([0.,0.,0.,0,0,0,0.,0.,.5,0.,1.,.5,1.,0.,0.,0.,0.,0.,0.,0,0,0,0,0],dtype=np.float32))\n",
    "\n",
    "filt=np.array([1.,-1.])\n",
    "print(type(inp),type(filt))\n",
    "prob,solver=estimate_model(inp,filt)"
   ]
  },
  {
   "cell_type": "code",
   "execution_count": null,
   "metadata": {
    "colab": {
     "base_uri": "https://localhost:8080/",
     "height": 367
    },
    "id": "kIW3rB_es2FL",
    "outputId": "c2830637-4fa9-4d07-8a66-b251d3459c77"
   },
   "outputs": [],
   "source": [
    "import holoviews as hv\n",
    "hv.extension('bokeh','matplotlib')\n",
    "Dots(solver.model[1])+Dots(solver.model[3])+Dots(solver.model[7] )"
   ]
  },
  {
   "cell_type": "code",
   "execution_count": null,
   "metadata": {
    "colab": {
     "base_uri": "https://localhost:8080/",
     "height": 367
    },
    "id": "yz0Yzl8Ys-T3",
    "outputId": "3edf9570-6ae5-47e5-f076-d8be4f73da8c"
   },
   "outputs": [],
   "source": [
    "import holoviews as hv\n",
    "hv.extension('bokeh','matplotlib')\n",
    "Dots(solver.model[11])+Dots(solver.model[15])+Dots(solver.model[17] )"
   ]
  },
  {
   "cell_type": "code",
   "execution_count": null,
   "metadata": {
    "colab": {
     "base_uri": "https://localhost:8080/"
    },
    "id": "0fISmRgWxS3a",
    "outputId": "18dbf155-1365-43aa-b687-a969cf628693"
   },
   "outputs": [],
   "source": [
    "print(solver.obj)"
   ]
  },
  {
   "cell_type": "code",
   "execution_count": null,
   "metadata": {
    "id": "VRrejwWwxlYF"
   },
   "outputs": [],
   "source": []
  },
  {
   "cell_type": "code",
   "execution_count": null,
   "metadata": {},
   "outputs": [],
   "source": []
  },
  {
   "cell_type": "code",
   "execution_count": null,
   "metadata": {},
   "outputs": [],
   "source": []
  },
  {
   "cell_type": "code",
   "execution_count": null,
   "metadata": {},
   "outputs": [],
   "source": []
  }
 ],
 "metadata": {
  "colab": {
   "authorship_tag": "ABX9TyOmJURqhVgphyVj18hSjsOP",
   "include_colab_link": true,
   "provenance": []
  },
  "kernelspec": {
   "display_name": "Python 3 (ipykernel)",
   "language": "python",
   "name": "python3"
  },
  "language_info": {
   "codemirror_mode": {
    "name": "ipython",
    "version": 3
   },
   "file_extension": ".py",
   "mimetype": "text/x-python",
   "name": "python",
   "nbconvert_exporter": "python",
   "pygments_lexer": "ipython3",
   "version": "3.9.9"
  }
 },
 "nbformat": 4,
 "nbformat_minor": 4
}
