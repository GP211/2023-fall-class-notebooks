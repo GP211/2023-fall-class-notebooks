{
 "cells": [
  {
   "cell_type": "code",
   "execution_count": null,
   "metadata": {
    "id": "xypUmN_-iFOT"
   },
   "outputs": [],
   "source": []
  },
  {
   "cell_type": "markdown",
   "metadata": {
    "id": "SdZSCYEfiKl5"
   },
   "source": [
    "# Vectors\n",
    "\n",
    "We will begin by making an abstract vector class"
   ]
  },
  {
   "cell_type": "code",
   "execution_count": 1,
   "metadata": {
    "id": "DkTMJNsFiSes"
   },
   "outputs": [],
   "source": [
    "from abc import ABC, abstractmethod\n",
    "\n",
    "class vector(ABC):\n",
    "  \"\"\"An abstract class for vectors for inverse problems\"\"\"\n",
    "  def __init__(self):\n",
    "    \"\"\"Default initializer for an abstract class\"\"\"\n",
    "    pass;\n",
    "\n",
    "  @abstractmethod\n",
    "  def get_nd_array(self):\n",
    "    \"\"\"Return numpy array representation of the vector\"\"\"\n",
    "\n",
    "\n",
    "  @abstractmethod\n",
    "  def check_same(self,vec2):\n",
    "    \"\"\"Check to see if another vector belongs to the\n",
    "       same vector space\n",
    "    \"\"\"\n",
    "\n",
    "  @abstractmethod\n",
    "  def scale(self,sc:float):\n",
    "    \"\"\"Scale a vector by another vector\"\"\"\n",
    "\n",
    "  @abstractmethod\n",
    "  def scale_add(self,vec2,sc1:float=1,sc2:float=1):\n",
    "    \"\"\"Scale a vector by another vector, scaling both\n",
    "\n",
    "        self*sc1+sc2*vec2\n",
    "\n",
    "        vec2 - Vector to add to the current vector\n",
    "        sc1 -  How much to scale the current vector by\n",
    "        sc2 -  How much to scale the vec2 by\n",
    "\n",
    "\n",
    "    \"\"\"\n",
    "\n",
    "  @abstractmethod\n",
    "  def dot(self,vec2):\n",
    "    \"\"\"Calculate the dot product of a vector with the current vector\n",
    "\n",
    "      vec2 - the vector to dot the current vector with\n",
    "\n",
    "    \"\"\"\n",
    "\n",
    "  @abstractmethod\n",
    "  def clone(self,spaceOnly=False):\n",
    "    \"\"\"Make a copy of the vector\n",
    "\n",
    "        spaceOnly - Only clone the space\n",
    "\n",
    "    \"\"\"\n",
    "\n"
   ]
  },
  {
   "cell_type": "code",
   "execution_count": 2,
   "metadata": {
    "id": "tgnaC3g8iW7A"
   },
   "outputs": [],
   "source": [
    "import numpy as np\n",
    "import copy\n",
    "class vec_numpy(vector):\n",
    "\n",
    "  def __init__(self,vals):\n",
    "    if  isinstance(vals,np.ndarray):\n",
    "      self._vals=copy.deepcopy(vals)\n",
    "    if vals is None:\n",
    "      self._vals=None\n",
    "\n",
    "  def check_alloc(self,throwError=True):\n",
    "    \"\"\"Check to make sure vector is allocated\"\"\"\n",
    "    if self._vals is None:\n",
    "      if throwError:\n",
    "        raise Exception(\"Vector not allocated\")\n",
    "      return False\n",
    "    return True\n",
    "  def get_nd_array(self):\n",
    "    \"\"\"Return nd_array representation\"\"\"\n",
    "    self.check_alloc()\n",
    "    return self._vals\n",
    "\n",
    "  def scale(self,sc:float):\n",
    "    \"\"\"Scale a vector by a scalar float\"\"\"\n",
    "    self.check_alloc()\n",
    "    self._vals*=sc\n",
    "    return self\n",
    "\n",
    "  def scale_add(self,vec2,sc1:float=1,sc2:float=1):\n",
    "    \"\"\"Scale a vector by another vector, scaling both\n",
    "\n",
    "        self*sc1+sc2*vec2\n",
    "\n",
    "        vec2 - Vector to add to the current vector\n",
    "        sc1 -  How much to scale the current vector by\n",
    "        sc2 -  How much to scale the vec2 by\n",
    "\n",
    "\n",
    "    \"\"\"\n",
    "    self.check_alloc()\n",
    "    self._vals=self._vals*sc1+vec2.get_nd_array()*sc2\n",
    "    return self\n",
    "\n",
    "  def __str__(self):\n",
    "    return f\"shape={self._vals.shape}\\n{self._vals}\\n\"\n",
    "  def dot(self,vec2):\n",
    "    \"\"\"Calculate the dot product of a vector with the current vector\n",
    "\n",
    "      vec2 - the vector to dot the current vector with\n",
    "\n",
    "    \"\"\"\n",
    "    self.check_alloc()\n",
    "    return np.dot(self.get_nd_array(),vec2.get_nd_array())"
   ]
  },
  {
   "cell_type": "code",
   "execution_count": 3,
   "metadata": {
    "id": "xNgAfsnYjRon"
   },
   "outputs": [],
   "source": [
    "class vec_1d(vec_numpy):\n",
    "  def __init__(self,n,o,d,vals=None,spaceOnly=False):\n",
    "    self._n=n\n",
    "    self._o=o\n",
    "    self._d=d\n",
    "    if self._d==0:\n",
    "      raise Exception(\"d can't be 0\")\n",
    "    if vals is not None:\n",
    "      if not isinstance(vals,np.ndarray):\n",
    "        raise Exception(\"Expecting vals to be a numpy array\")\n",
    "      if  vals.dtype != np.float32 and vals.dtype!=np.float64:\n",
    "        raise Exception(f\"Expecting a float array {vals.dtype}\")\n",
    "      if len(vals.shape)!=1:\n",
    "        raise Exception(\"Expecting a 1-D array\")\n",
    "      if vals.shape[0]!=self._n:\n",
    "        raise Exception(f\"Expecting the size of arr to be = {n}\")\n",
    "      super().__init__(vals)\n",
    "    else:\n",
    "      if spaceOnly:\n",
    "        super().__init(None)\n",
    "      else:\n",
    "        super().__init__(np.zeros((self._n,),dtype=np.float32))\n",
    "\n",
    "\n",
    "  def check_same(self,vec2):\n",
    "    if not isinstance(vec2,vec_1d):\n",
    "      return False\n",
    "    if vec2._n != self._n:\n",
    "      return False\n",
    "\n",
    "    if (self._o-vec2._o)/self._d > .001:\n",
    "      return False\n",
    "    if (self._d-vec2._d)/self._d > .001:\n",
    "      return False\n",
    "    return True\n",
    "\n",
    "  def clone(self,spaceOnly=False):\n",
    "    \"\"\"Clone a vector, potentionally spaceOnly\n",
    "\n",
    "      spaceOnly=False\n",
    "\n",
    "    \"\"\"\n",
    "    return vec_1d(self._n,self._o,self._d,self._vals,spaceOnly)\n",
    "\n"
   ]
  },
  {
   "cell_type": "code",
   "execution_count": 4,
   "metadata": {
    "id": "F6ELp1e6jfLp"
   },
   "outputs": [],
   "source": [
    "class operator(ABC):\n",
    "  \"\"\"An abstract class for operators for inverse problems\"\"\"\n",
    "  def __init__(self,domain,range):\n",
    "    \"\"\"Default initializer for an abstract class\n",
    "\n",
    "      domain - Domain of operator\n",
    "      range. - Range of operator\n",
    "\n",
    "    \"\"\"\n",
    "    self._domain=domain.clone(spaceOnly=True)\n",
    "    self._range=range.clone(spaceOnly=True)\n",
    "\n",
    "  @abstractmethod\n",
    "  def forward(self,add,model,data):\n",
    "    \"\"\"\n",
    "      Run a forward\n",
    "\n",
    "      add - Whether or not to add to the output\n",
    "      model - Model (input)\n",
    "      data. - Data (output)\n",
    "\n",
    "\n",
    "    \"\"\"\n",
    "\n",
    "\n",
    "  @abstractmethod\n",
    "  def adjoint(self,add,model,data):\n",
    "    \"\"\"\n",
    "      Run an adjoint\n",
    "\n",
    "      add - Whether or not to add to the output\n",
    "      model - Model (output)\n",
    "      data. - Data (output)\n",
    "\n",
    "\n",
    "    \"\"\"\n",
    "\n",
    "  def check_same(self,model,data):\n",
    "    \"\"\"\n",
    "      Check to see if model and data match operator initialization\n",
    "\n",
    "        model - Model space\n",
    "        data. - data space\n",
    "    \"\"\"\n",
    "    if not self._domain.check_same(model):\n",
    "      raise Exception(\"model and domain don't match\")\n",
    "\n",
    "    if not self._range.check_same(data):\n",
    "      raise Exception(\"range and data don't match\")\n"
   ]
  },
  {
   "cell_type": "code",
   "execution_count": 10,
   "metadata": {
    "id": "wNIgrCekWlDT"
   },
   "outputs": [],
   "source": [
    "class matrix_mult(operator):\n",
    "    \"\"\"Perform matrix multiplication\"\"\"\n",
    "    def __init__(self,mod,dat,mat):\n",
    "        \"\"\"\n",
    "          Initialize matrix multiplication operator\n",
    "          mod - Domain\n",
    "          dat - Range\n",
    "          mat - Matrix to multiply\n",
    "    \n",
    "        \"\"\"\n",
    "        if not isinstance(mod,vec_1d):\n",
    "            raise Exception(\"Expecting model to be vec_1d\")\n",
    "        if not isinstance(dat,vec_1d):\n",
    "          raise Exception(\"Expecting data to be vec_1d\")\n",
    "        if not isinstance(mat,np.ndarray):\n",
    "          raise Excception(\"Expecting mat to be a 1-D array\")\n",
    "        if mod._n != mat.shape[1] or dat._n!=mat.shape[0]:\n",
    "          raise Exception(\"Matrix doesn't match model and data\")\n",
    "        super().__init__(mod,dat)\n",
    "        self._mat=copy.deepcopy(mat)\n",
    "\n",
    "    def forward(self,add,model,data):\n",
    "        \"\"\"\n",
    "          Run a forward\n",
    "    \n",
    "          add - Whether or not to add to the output\n",
    "          model - Model (input)\n",
    "          data. - Data (output)\n",
    "    \n",
    "    \n",
    "        \"\"\"\n",
    "        self.check_same(model,data)\n",
    "        if not add: data.scale(0.)\n",
    "    \n",
    "        d=data.get_nd_array()\n",
    "        m=model.get_nd_array()\n",
    "    \n",
    "        for j in range(d.shape[0]):\n",
    "          for i in range(m.shape[0]):\n",
    "            d[j]+=self._mat[j,i]*m[i]\n",
    "\n",
    "    def adjoint(self,add,model,data):\n",
    "        \"\"\"\n",
    "          Run an adjoint\n",
    "    \n",
    "          add - Whether or not to add to the output\n",
    "          model - Model (output)\n",
    "          data. - Data (output)\n",
    "    \n",
    "    \n",
    "        \"\"\"\n",
    "        self.check_same(model,data)\n",
    "        if not add: model.scale(0.)\n",
    "    \n",
    "        d=data.get_nd_array()\n",
    "        m=model.get_nd_array()\n",
    "    \n",
    "        for j in range(d.shape[0]):\n",
    "          for i in range(m.shape[0]):\n",
    "            m[i]+=self._mat[j,i]*d[j]\n",
    "    \n"
   ]
  },
  {
   "cell_type": "code",
   "execution_count": null,
   "metadata": {
    "id": "wgfv7gomZkxC"
   },
   "outputs": [],
   "source": []
  },
  {
   "cell_type": "code",
   "execution_count": 11,
   "metadata": {
    "id": "xjKgihDLY4mP"
   },
   "outputs": [],
   "source": [
    "mat=np.array([[1.,2.],[7.,-4.]])\n",
    "mod=vec_1d(2,0.,1.)\n",
    "dat=vec_1d(2,0.,1.)\n",
    "mat_op=matrix_mult(mod,dat,mat)\n",
    "mod.get_nd_array()[:]=[-2,4]\n",
    "mat_op.forward(False,mod,dat)\n",
    "m2=mod.clone()\n",
    "mat_op.adjoint(False,m2,dat)\n"
   ]
  },
  {
   "cell_type": "code",
   "execution_count": 12,
   "metadata": {
    "colab": {
     "base_uri": "https://localhost:8080/",
     "height": 142
    },
    "id": "DfJlUZomZCZG",
    "outputId": "9bf2e72c-22c6-4daf-bd52-920271d86432"
   },
   "outputs": [
    {
     "name": "stdout",
     "output_type": "stream",
     "text": [
      "shape=(2,)\n",
      "[-2.  4.]\n",
      "\n"
     ]
    }
   ],
   "source": [
    "print(mod)"
   ]
  },
  {
   "cell_type": "code",
   "execution_count": 13,
   "metadata": {
    "id": "6UomYSovgL1w"
   },
   "outputs": [
    {
     "name": "stdout",
     "output_type": "stream",
     "text": [
      "shape=(2,)\n",
      "[  6. -30.]\n",
      "\n",
      "shape=(2,)\n",
      "[-204.  132.]\n",
      "\n"
     ]
    }
   ],
   "source": [
    "print(dat)\n",
    "print(m2)"
   ]
  },
  {
   "cell_type": "code",
   "execution_count": null,
   "metadata": {},
   "outputs": [],
   "source": []
  }
 ],
 "metadata": {
  "colab": {
   "provenance": []
  },
  "kernelspec": {
   "display_name": "Python 3 (ipykernel)",
   "language": "python",
   "name": "python3"
  },
  "language_info": {
   "codemirror_mode": {
    "name": "ipython",
    "version": 3
   },
   "file_extension": ".py",
   "mimetype": "text/x-python",
   "name": "python",
   "nbconvert_exporter": "python",
   "pygments_lexer": "ipython3",
   "version": "3.9.9"
  }
 },
 "nbformat": 4,
 "nbformat_minor": 4
}
