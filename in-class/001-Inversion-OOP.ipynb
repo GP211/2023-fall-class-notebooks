{
 "cells": [
  {
   "cell_type": "code",
   "execution_count": null,
   "metadata": {
    "id": "xypUmN_-iFOT"
   },
   "outputs": [],
   "source": [
    "[![Open In Colab](https://colab.research.google.com/assets/colab-badge.svg)](https://colab.research.google.com/github/GP211/2023-fall-class-notebooks/blob/main/in-class/001-Inversion-OOP.ipynb)"
   ]
  },
  {
   "cell_type": "code",
   "execution_count": null,
   "metadata": {},
   "outputs": [],
   "source": [
    "! pip install  \"giee @ git+https://github.com/SEP-software/2023-fall-class-notebooks.git.git@d00084220a6501d5fe744869f82e64b3dab9c03b\" "
   ]
  },
  {
   "cell_type": "markdown",
   "metadata": {
    "id": "SdZSCYEfiKl5"
   },
   "source": [
    "# Vectors\n",
    "\n",
    "We will begin by making an abstract vector class"
   ]
  },
  {
   "cell_type": "code",
   "execution_count": null,
   "metadata": {
    "id": "DkTMJNsFiSes"
   },
   "outputs": [],
   "source": [
    "from abc import ABC, abstractmethod\n",
    "\n",
    "class vector(ABC):\n",
    "  \"\"\"An abstract class for vectors for inverse problems\"\"\"\n",
    "  def __init__(self):\n",
    "    \"\"\"Default initializer for an abstract class\"\"\"\n",
    "    pass;\n",
    "\n",
    "  @abstractmethod\n",
    "  def get_nd_array(self):\n",
    "    \"\"\"Return numpy array representation of the vector\"\"\"\n",
    "\n",
    "\n",
    "  @abstractmethod\n",
    "  def check_same(self,vec2):\n",
    "    \"\"\"Check to see if another vector belongs to the\n",
    "       same vector space\n",
    "    \"\"\"\n",
    "\n",
    "  @abstractmethod\n",
    "  def scale(self,sc:float):\n",
    "    \"\"\"Scale a vector by another vector\"\"\"\n",
    "\n",
    "  @abstractmethod\n",
    "  def rand(self):\n",
    "      \"\"\" Filel the vector with random numbers\"\"\"\n",
    "      \n",
    "  @abstractmethod\n",
    "  def scale_add(self,vec2,sc1:float=1,sc2:float=1):\n",
    "    \"\"\"Scale a vector by another vector, scaling both\n",
    "\n",
    "        self*sc1+sc2*vec2\n",
    "\n",
    "        vec2 - Vector to add to the current vector\n",
    "        sc1 -  How much to scale the current vector by\n",
    "        sc2 -  How much to scale the vec2 by\n",
    "\n",
    "\n",
    "    \"\"\"\n",
    "\n",
    "  @abstractmethod\n",
    "  def dot(self,vec2):\n",
    "    \"\"\"Calculate the dot product of a vector with the current vector\n",
    "\n",
    "      vec2 - the vector to dot the current vector with\n",
    "\n",
    "    \"\"\"\n",
    "\n",
    "  @abstractmethod\n",
    "  def clone(self,spaceOnly=False):\n",
    "    \"\"\"Make a copy of the vector\n",
    "\n",
    "        spaceOnly - Only clone the space\n",
    "\n",
    "    \"\"\"\n",
    "\n"
   ]
  },
  {
   "cell_type": "markdown",
   "metadata": {},
   "source": [
    "## Now lets make a class which uses numpy arrays as storage"
   ]
  },
  {
   "cell_type": "code",
   "execution_count": null,
   "metadata": {
    "id": "tgnaC3g8iW7A"
   },
   "outputs": [],
   "source": [
    "import numpy as np\n",
    "import copy\n",
    "class vec_numpy(vector):\n",
    "\n",
    "  def __init__(self,vals):\n",
    "    if  isinstance(vals,np.ndarray):\n",
    "      self._vals=copy.deepcopy(vals)\n",
    "    if vals is None:\n",
    "      self._vals=None\n",
    "\n",
    "  def check_alloc(self,throwError=True):\n",
    "    \"\"\"Check to make sure vector is allocated\"\"\"\n",
    "    if self._vals is None:\n",
    "      if throwError:\n",
    "        raise Exception(\"Vector not allocated\")\n",
    "      return False\n",
    "    return True\n",
    "  def get_nd_array(self):\n",
    "    \"\"\"Return nd_array representation\"\"\"\n",
    "    self.check_alloc()\n",
    "    return self._vals\n",
    "\n",
    "  def rand(self):\n",
    "      \"\"\"Fill with random numbers\"\"\"\n",
    "      self._vals=np.random.rand(self._vals.shape[0])\n",
    "  def scale(self,sc:float):\n",
    "    \"\"\"Scale a vector by a scalar float\"\"\"\n",
    "    self.check_alloc()\n",
    "    self._vals*=sc\n",
    "    return self\n",
    "\n",
    "  def scale_add(self,vec2,sc1:float=1,sc2:float=1):\n",
    "    \"\"\"Scale a vector by another vector, scaling both\n",
    "\n",
    "        self*sc1+sc2*vec2\n",
    "\n",
    "        vec2 - Vector to add to the current vector\n",
    "        sc1 -  How much to scale the current vector by\n",
    "        sc2 -  How much to scale the vec2 by\n",
    "\n",
    "\n",
    "    \"\"\"\n",
    "    self.check_alloc()\n",
    "    self._vals=self._vals*sc1+vec2.get_nd_array()*sc2\n",
    "    return self\n",
    "\n",
    "  def __str__(self):\n",
    "    return f\"shape={self._vals.shape}\\n{self._vals}\\n\"\n",
    "  def dot(self,vec2):\n",
    "    \"\"\"Calculate the dot product of a vector with the current vector\n",
    "\n",
    "      vec2 - the vector to dot the current vector with\n",
    "\n",
    "    \"\"\"\n",
    "    self.check_alloc()\n",
    "    return np.dot(self.get_nd_array(),vec2.get_nd_array())"
   ]
  },
  {
   "cell_type": "markdown",
   "metadata": {},
   "source": [
    "## Concrete class\n",
    "\n",
    "Now a concrete class which is a 1-d vector.  We now have defined all\n",
    "abtract class defined in vector"
   ]
  },
  {
   "cell_type": "code",
   "execution_count": null,
   "metadata": {
    "id": "xNgAfsnYjRon"
   },
   "outputs": [],
   "source": [
    "class vec_1d(vec_numpy):\n",
    "  def __init__(self,n,o,d,vals=None,spaceOnly=False):\n",
    "    self._n=n\n",
    "    self._o=o\n",
    "    self._d=d\n",
    "    if self._d==0:\n",
    "      raise Exception(\"d can't be 0\")\n",
    "    if vals is not None:\n",
    "      if not isinstance(vals,np.ndarray):\n",
    "        raise Exception(\"Expecting vals to be a numpy array\")\n",
    "      if  vals.dtype != np.float32 and vals.dtype!=np.float64:\n",
    "        raise Exception(f\"Expecting a float array {vals.dtype}\")\n",
    "      if len(vals.shape)!=1:\n",
    "        raise Exception(\"Expecting a 1-D array\")\n",
    "      if vals.shape[0]!=self._n:\n",
    "        raise Exception(f\"Expecting the size of arr to be = {n}\")\n",
    "      super().__init__(vals)\n",
    "    else:\n",
    "      if spaceOnly:\n",
    "        super().__init(None)\n",
    "      else:\n",
    "        super().__init__(np.zeros((self._n,),dtype=np.float32))\n",
    "\n",
    "\n",
    "  def check_same(self,vec2):\n",
    "    if not isinstance(vec2,vec_1d):\n",
    "      return False\n",
    "    if vec2._n != self._n:\n",
    "      return False\n",
    "\n",
    "    if (self._o-vec2._o)/self._d > .001:\n",
    "      return False\n",
    "    if (self._d-vec2._d)/self._d > .001:\n",
    "      return False\n",
    "    return True\n",
    "\n",
    "  def clone(self,spaceOnly=False):\n",
    "    \"\"\"Clone a vector, potentionally spaceOnly\n",
    "\n",
    "      spaceOnly=False\n",
    "\n",
    "    \"\"\"\n",
    "    return vec_1d(self._n,self._o,self._d,self._vals,spaceOnly)\n",
    "\n"
   ]
  },
  {
   "cell_type": "markdown",
   "metadata": {},
   "source": [
    "## An abstract operator class \n",
    "\n",
    "- Every operator implements a forward and adjoint.\n",
    "- Knows it domain and range\n",
    "- Can check to see if the domain and range match what the object initialized"
   ]
  },
  {
   "cell_type": "code",
   "execution_count": null,
   "metadata": {
    "id": "F6ELp1e6jfLp"
   },
   "outputs": [],
   "source": [
    "class operator(ABC):\n",
    "  \"\"\"An abstract class for operators for inverse problems\"\"\"\n",
    "  def __init__(self,domain,range):\n",
    "    \"\"\"Default initializer for an abstract class\n",
    "\n",
    "      domain - Domain of operator\n",
    "      range. - Range of operator\n",
    "\n",
    "    \"\"\"\n",
    "    self._domain=domain.clone(spaceOnly=True)\n",
    "    self._range=range.clone(spaceOnly=True)\n",
    "\n",
    "  @abstractmethod\n",
    "  def forward(self,add,model,data):\n",
    "    \"\"\"\n",
    "      Run a forward\n",
    "\n",
    "      add - Whether or not to add to the output\n",
    "      model - Model (input)\n",
    "      data. - Data (output)\n",
    "\n",
    "\n",
    "    \"\"\"\n",
    "\n",
    "\n",
    "  @abstractmethod\n",
    "  def adjoint(self,add,model,data):\n",
    "    \"\"\"\n",
    "      Run an adjoint\n",
    "\n",
    "      add - Whether or not to add to the output\n",
    "      model - Model (output)\n",
    "      data. - Data (output)\n",
    "\n",
    "\n",
    "    \"\"\"\n",
    "\n",
    "  def check_same(self,model,data):\n",
    "    \"\"\"\n",
    "      Check to see if model and data match operator initialization\n",
    "\n",
    "        model - Model space\n",
    "        data. - data space\n",
    "    \"\"\"\n",
    "    if not self._domain.check_same(model):\n",
    "      raise Exception(\"model and domain don't match\")\n",
    "\n",
    "    if not self._range.check_same(data):\n",
    "      raise Exception(\"range and data don't match\")\n"
   ]
  },
  {
   "cell_type": "markdown",
   "metadata": {},
   "source": [
    "## Matrix multiply\n",
    "\n",
    "A class that does matrix multiplication"
   ]
  },
  {
   "cell_type": "code",
   "execution_count": null,
   "metadata": {
    "id": "wNIgrCekWlDT"
   },
   "outputs": [],
   "source": [
    "class matrix_mult(operator):\n",
    "    \"\"\"Perform matrix multiplication\"\"\"\n",
    "    def __init__(self,mod,dat,mat):\n",
    "        \"\"\"\n",
    "          Initialize matrix multiplication operator\n",
    "          mod - Domain\n",
    "          dat - Range\n",
    "          mat - Matrix to multiply\n",
    "    \n",
    "        \"\"\"\n",
    "        if not isinstance(mod,vec_1d):\n",
    "            raise Exception(\"Expecting model to be vec_1d\")\n",
    "        if not isinstance(dat,vec_1d):\n",
    "          raise Exception(\"Expecting data to be vec_1d\")\n",
    "        if not isinstance(mat,np.ndarray):\n",
    "          raise Excception(\"Expecting mat to be a 1-D array\")\n",
    "        if mod._n != mat.shape[1] or dat._n!=mat.shape[0]:\n",
    "          raise Exception(\"Matrix doesn't match model and data\")\n",
    "        super().__init__(mod,dat)\n",
    "        self._mat=copy.deepcopy(mat)\n",
    "\n",
    "    def forward(self,add,model,data):\n",
    "        \"\"\"\n",
    "          Run a forward\n",
    "    \n",
    "          add - Whether or not to add to the output\n",
    "          model - Model (input)\n",
    "          data. - Data (output)\n",
    "    \n",
    "    \n",
    "        \"\"\"\n",
    "        self.check_same(model,data)\n",
    "        if not add: data.scale(0.)\n",
    "    \n",
    "        d=data.get_nd_array()\n",
    "        m=model.get_nd_array()\n",
    "    \n",
    "        for j in range(d.shape[0]):\n",
    "          for i in range(m.shape[0]):\n",
    "            d[j]+=self._mat[j,i]*m[i]\n",
    "\n",
    "    def adjoint(self,add,model,data):\n",
    "        \"\"\"\n",
    "          Run an adjoint\n",
    "    \n",
    "          add - Whether or not to add to the output\n",
    "          model - Model (output)\n",
    "          data. - Data (output)\n",
    "    \n",
    "    \n",
    "        \"\"\"\n",
    "        self.check_same(model,data)\n",
    "        if not add: model.scale(0.)\n",
    "    \n",
    "        d=data.get_nd_array()\n",
    "        m=model.get_nd_array()\n",
    "    \n",
    "        for j in range(d.shape[0]):\n",
    "          for i in range(m.shape[0]):\n",
    "            m[i]+=self._mat[j,i]*d[j]\n",
    "    \n"
   ]
  },
  {
   "cell_type": "markdown",
   "metadata": {
    "id": "wgfv7gomZkxC"
   },
   "source": [
    "## Test the forward and adjoint"
   ]
  },
  {
   "cell_type": "code",
   "execution_count": null,
   "metadata": {
    "id": "xjKgihDLY4mP"
   },
   "outputs": [],
   "source": [
    "mat=np.array([[1.,2.],[7.,-4.]])\n",
    "mod=vec_1d(2,0.,1.)\n",
    "dat=vec_1d(2,0.,1.)\n",
    "mat_op=matrix_mult(mod,dat,mat)\n",
    "mod.get_nd_array()[:]=[-2,4]\n",
    "mat_op.forward(False,mod,dat)\n",
    "m2=mod.clone()\n",
    "mat_op.adjoint(False,m2,dat)\n"
   ]
  },
  {
   "cell_type": "code",
   "execution_count": null,
   "metadata": {
    "colab": {
     "base_uri": "https://localhost:8080/",
     "height": 142
    },
    "id": "DfJlUZomZCZG",
    "outputId": "9bf2e72c-22c6-4daf-bd52-920271d86432"
   },
   "outputs": [],
   "source": [
    "print(mod)"
   ]
  },
  {
   "cell_type": "code",
   "execution_count": null,
   "metadata": {
    "id": "6UomYSovgL1w"
   },
   "outputs": [],
   "source": [
    "print(dat)\n",
    "print(m2)"
   ]
  },
  {
   "cell_type": "markdown",
   "metadata": {},
   "source": [
    "## Abstract solver class\n",
    "\n",
    "The basic iterative solve class"
   ]
  },
  {
   "cell_type": "code",
   "execution_count": null,
   "metadata": {},
   "outputs": [],
   "source": [
    "class solver:\n",
    "  def __init__(self,lop:operator,m0:vector,d:vector):\n",
    "    self._lop=lop\n",
    "    self._m0=m0.clone()\n",
    "    self._rr=d.clone() # residual\n",
    "\n",
    "    self._g=self._m0.clone() #gradient vec\n",
    "    self._gg=self._rr.clone() #gradient mapped back into data space\n",
    "\n",
    "\n",
    "  def updateModRes(self,mod:vector,res:vector):\n",
    "    raise Exception(\"Need to override\")\n",
    "\n",
    "  def steepCalc(self,dir:vector,rr:vector):\n",
    "    \"\"\"Direction to seach\"\"\"\n",
    "    self._lop.forward(False,dir,self._gg)\n",
    "    top=rr.dot(self._gg)\n",
    "    bot=self._gg.dot(self._gg)\n",
    "    alpha=-top/(bot+1.e-10)\n",
    "    return alpha\n",
    "  \n",
    "  def iterate(self,niter:int):\n",
    "    self._rr.scale(-1.) # r=d\n",
    "    self._lop.forward(True,self._m0,self._rr) #-d+Lm_0\n",
    "    mod=self._m0.clone()\n",
    "    mvec=[]\n",
    "    rvec=[]\n",
    "    mvec.append(np.copy(mod.get_nd_array()))\n",
    "    rvec.append(np.copy(self._rr.get_nd_array()))\n",
    "    for iter in range(niter):\n",
    "      self.updateModRes(mod,self._rr)\n",
    "      mvec.append(np.copy(mod.get_nd_array()))\n",
    "      rvec.append(np.copy(self._rr.get_nd_array()))\n",
    "    return mvec, rvec"
   ]
  },
  {
   "cell_type": "markdown",
   "metadata": {},
   "source": [
    "## A concrete class that chooses random directions"
   ]
  },
  {
   "cell_type": "code",
   "execution_count": null,
   "metadata": {},
   "outputs": [],
   "source": [
    "class randomSolver(solver):\n",
    "\n",
    "  def __init__(self,lop:operator,m0:vector,d:vector):\n",
    "    super().__init__(lop,m0,d)\n",
    "\n",
    "\n",
    "  def updateModRes(self,mod,rr):\n",
    "    self._g.rand()\n",
    "    alpha=self.steepCalc(self._g,rr)\n",
    "    mod.scale_add(self._g,sc2=alpha)\n",
    "    rr.scale_add(self._gg,sc2=alpha)\n",
    "\n",
    "\n",
    "mat=np.array([[1.,2.],[7.,-4.]])\n",
    "mod=vec_1d(2,0.,1.)\n",
    "dat=vec_1d(2,0.,1.)\n",
    "mat_op=matrix_mult(mod,dat,mat)\n",
    "mod.get_nd_array()[:]=[-2,4]\n",
    "mat_op.forward(False,mod,dat)\n",
    "print(dat.get_nd_array()[:])"
   ]
  },
  {
   "cell_type": "markdown",
   "metadata": {},
   "source": [
    "## Invert the matrix multiply operator"
   ]
  },
  {
   "cell_type": "code",
   "execution_count": null,
   "metadata": {},
   "outputs": [],
   "source": [
    "mod.get_nd_array()[:]=(-199,179)\n",
    "\n",
    "solve=randomSolver(mat_op,mod,dat)\n",
    "mvec,rvec=solve.iterate(100)"
   ]
  },
  {
   "cell_type": "markdown",
   "metadata": {},
   "source": [
    "## A function to print the objective function along with model value over iterate"
   ]
  },
  {
   "cell_type": "code",
   "execution_count": null,
   "metadata": {},
   "outputs": [],
   "source": [
    "import matplotlib.pyplot as plt\n",
    "\n",
    "def objPlot(oper,mod,mn,mx,npts,col):\n",
    "\n",
    "  npts=300\n",
    "  obj=np.zeros((npts,npts))\n",
    "  test=dat.clone()\n",
    "  ix=0\n",
    "  tmp=oper._domain.clone()\n",
    "  for x in np.linspace(mn,mx,npts):\n",
    "    iy=0\n",
    "    for y in np.linspace(mn,mx,npts):\n",
    "      tmp.get_nd_array()[:]=(y,x)\n",
    "      oper.forward(False,tmp,test)\n",
    "      test.scale_add(dat,1,-1)\n",
    "      obj[ix,iy]=test.dot(test)\n",
    "      iy+=1\n",
    "    ix+=1\n",
    "  plt.figure(figsize=(8,6))\n",
    "  contours = plt.contour(np.linspace(mn,mx,npts), np.linspace(mn,mx,npts), obj, 10, colors='white')\n",
    "  plt.clabel(contours, inline=1, fontsize=10)\n",
    "  plt.imshow(obj[::-1,:],extent=(mn,mx,mn,mx),cmap=plt.cm.hot)\n",
    "  x=[[v[0]] for v in mod ]\n",
    "  y=[[v[1]] for v in mod ] \n",
    "  plt.plot(x, y, color=col, linewidth=3)"
   ]
  },
  {
   "cell_type": "markdown",
   "metadata": {},
   "source": [
    "## Plot the result"
   ]
  },
  {
   "cell_type": "code",
   "execution_count": null,
   "metadata": {},
   "outputs": [],
   "source": [
    "objPlot(mat_op,mvec,-500,500,300,\"blue\")"
   ]
  },
  {
   "cell_type": "markdown",
   "metadata": {},
   "source": [
    "## Do it again"
   ]
  },
  {
   "cell_type": "code",
   "execution_count": null,
   "metadata": {},
   "outputs": [],
   "source": [
    "mod.scale(0.)\n",
    "mod.get_nd_array()[:]=(-199,179)\n",
    "solve=randomSolver(mat_op,mod,dat)\n",
    "\n",
    "mvec,rvec=solve.iterate(100)\n",
    "objPlot(mat_op,mvec,-500,500,300,\"green\")"
   ]
  },
  {
   "cell_type": "markdown",
   "metadata": {},
   "source": [
    "## Now lets use the adjoint as our search direction"
   ]
  },
  {
   "cell_type": "code",
   "execution_count": null,
   "metadata": {},
   "outputs": [],
   "source": [
    "class steepSolver(solver):\n",
    "\n",
    "  def __init__(self,lop:operator,m0:vec_1d,d:vec_1d):\n",
    "    super().__init__(lop,m0,d)\n",
    "\n",
    "  def updateModRes(self,mod,rr):\n",
    "    self._lop.adjoint(False,self._g,rr)\n",
    "    alpha=self.steepCalc(self._g,rr)\n",
    "    mod.scale_add(self._g,sc2=alpha)\n",
    "    rr.scale_add(self._gg,sc2=alpha)\n",
    "\n",
    "mod.scale(0.)\n",
    "mod.get_nd_array()[:]=(199,-193)\n",
    "solve=steepSolver(mat_op,mod,dat)\n",
    "\n",
    "mvec,rvec=solve.iterate(50)\n",
    "objPlot(mat_op,mvec,-200,200,300,\"green\")"
   ]
  },
  {
   "cell_type": "code",
   "execution_count": null,
   "metadata": {},
   "outputs": [],
   "source": []
  },
  {
   "cell_type": "code",
   "execution_count": null,
   "metadata": {},
   "outputs": [],
   "source": [
    "class cgSolver(solver):\n",
    "\n",
    "  def __init__(self,lop:operator,m0:vector,d:vector):\n",
    "    super().__init__(lop,m0,d)\n",
    "    self._s=None\n",
    "    self._ss=None\n",
    "\n",
    "\n",
    "\n",
    "\n",
    "  def updateModRes(self,mod,rr):\n",
    "    \n",
    "    self._lop.adjoint(False,self._g,rr)\n",
    "\n",
    "    if self._s is None:\n",
    "      #Do steepest descent\n",
    "      self._s=mod.clone()\n",
    "      self._ss=rr.clone()\n",
    "      self._s.scale(0.)\n",
    "      self._ss.scale(0.)\n",
    "      alpha=self.steepCalc(self._g,rr)\n",
    "      beta=0.\n",
    "    else:\n",
    "      #DO CGSTEP\n",
    "      self._lop.forward(False,self._g,self._gg)\n",
    "      g_g=self._gg.dot(self._gg)\n",
    "      g_s=self._gg.dot(self._ss)\n",
    "      s_s=self._ss.dot(self._ss)\n",
    "      if g_g ==0 or s_s==0:\n",
    "        raise Exception(\"Solver is stuck\")\n",
    "      determ=g_g*s_s*max(1.-(g_s/g_g)*(g_s/s_s),1.e-12)\n",
    "      g_r=-self._gg.dot(rr)\n",
    "      s_r=-rr.dot(self._ss)\n",
    "      alpha = ( s_s*g_r - g_s*s_r ) / determ \n",
    "      beta = (-g_s*g_r + g_g*s_r ) / determ\n",
    "\n",
    "      \n",
    "    self._s.scale_add(self._g,sc2=alpha,sc1=beta)\n",
    "    self._ss.scale_add(self._gg,sc2=alpha,sc1=beta)\n",
    "    mod.scale_add(self._s) #mod=mod+s\n",
    "    rr.scale_add(self._ss) #RES=res+ss\n",
    "\n",
    "mod.scale(0.)\n",
    "mod.get_nd_array()[:]=(139,-199)\n",
    "solve=cgSolver(mat_op,mod,dat)\n",
    "mvec,rvec=solve.iterate(2)\n",
    "\n",
    "objPlot(mat_op,mvec,-200,200,300,\"green\")"
   ]
  },
  {
   "cell_type": "code",
   "execution_count": null,
   "metadata": {},
   "outputs": [],
   "source": []
  }
 ],
 "metadata": {
  "colab": {
   "provenance": []
  },
  "kernelspec": {
   "display_name": "Python 3 (ipykernel)",
   "language": "python",
   "name": "python3"
  },
  "language_info": {
   "codemirror_mode": {
    "name": "ipython",
    "version": 3
   },
   "file_extension": ".py",
   "mimetype": "text/x-python",
   "name": "python",
   "nbconvert_exporter": "python",
   "pygments_lexer": "ipython3",
   "version": "3.9.9"
  }
 },
 "nbformat": 4,
 "nbformat_minor": 4
}
