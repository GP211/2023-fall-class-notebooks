{
 "cells": [
  {
   "cell_type": "markdown",
   "metadata": {
    "colab_type": "text",
    "id": "view-in-github",
    "tags": []
   },
   "source": [
    "[![Open In Colab](https://colab.research.google.com/assets/colab-badge.svg)](https://colab.research.google.com/github/GP211/2023-fall-class-notebooks/blob/main/in-class/004-vesuvio.ipynb)"
   ]
  },
  {
   "cell_type": "markdown",
   "metadata": {},
   "source": [
    "# Vesuvius phase unwrapping"
   ]
  },
  {
   "cell_type": "code",
   "execution_count": null,
   "metadata": {},
   "outputs": [],
   "source": []
  },
  {
   "cell_type": "code",
   "execution_count": null,
   "metadata": {
    "colab": {
     "base_uri": "https://localhost:8080/"
    },
    "id": "wzrobLeBy72U",
    "outputId": "1f0e2f16-a79e-4414-c982-38151c289584"
   },
   "outputs": [],
   "source": [
    "%load_ext autoreload\n",
    "%autoreload 2\n",
    "import sys\n",
    "!python3 -m pip install \"giee @ git+https://github.com/GP211/2023-fall-class-notebooks.git@d00084220a6501d5fe744869f82e64b3dab9c03b\" "
   ]
  },
  {
   "cell_type": "code",
   "execution_count": null,
   "metadata": {
    "colab": {
     "base_uri": "https://localhost:8080/"
    },
    "id": "yfEb7PZdziWx",
    "outputId": "69c734a8-cfd3-4637-ab9e-f19c3422e5e5"
   },
   "outputs": [],
   "source": [
    "import sep_python\n",
    "io=sep_python.default_io\n",
    "vec=io.vector_from_storage(\"../data/vesuvio.H\")"
   ]
  },
  {
   "cell_type": "code",
   "execution_count": null,
   "metadata": {
    "colab": {
     "base_uri": "https://localhost:8080/"
    },
    "id": "cpCVysL2b5lm",
    "outputId": "d1865078-89f7-4995-b327-a9ff94332287"
   },
   "outputs": [],
   "source": [
    "x=vec.get_nd_array()\n",
    "print(type(x),x.dtype,vec.get_data_type())"
   ]
  },
  {
   "cell_type": "code",
   "execution_count": null,
   "metadata": {
    "colab": {
     "base_uri": "https://localhost:8080/",
     "height": 384
    },
    "id": "9OjSSPACzvIP",
    "outputId": "79383bc9-7e20-440c-b836-aec1542f5c0a"
   },
   "outputs": [],
   "source": [
    "import numpy as np\n",
    "import holoviews as hv\n",
    "hv.extension('bokeh','matplotlib')\n",
    "\n",
    "vec._hyper.axes=vec._hyper.axes[0:2]\n",
    "\n",
    "amp=io.get_reg_vector(np.absolute(vec.get_nd_array()),hyper=vec.get_hyper())\n",
    "phase=io.get_reg_vector(np.angle(vec.get_nd_array()),hyper=vec.get_hyper())\n",
    "\n",
    "print(amp.get_data_type(),vec.min(),vec.max())\n",
    "import sep_plot\n",
    "sep_plot.Grey(amp,bpclip=0,epclip=96)+sep_plot.Grey(phase)\n"
   ]
  },
  {
   "cell_type": "markdown",
   "metadata": {},
   "source": [
    "These images are made from\n",
    "backscatter signals s1(t) and s2(t), recorded along two satellite orbits 800-km high and\n",
    "54-m apart. The signals are very high frequency (the radar wavelength being 2.7 cm).\n",
    "The signals were Fourier transformed and one multiplied by the complex conjugate of the\n",
    "other, getting the product $Z = S_1(ω)S_2(ω)$. The product’s amplitude and phase are shown\n",
    "in Figure 2.8. Examining the data, you can notice that where the signals are strongest\n",
    "(darkest on the left), the phase (on the right) is the most spatially consistent.\n",
    "\n",
    "In the figure in the left we see that contours of constant phase\n",
    "appear to be contours of constant altitude;\n",
    "this conclusion leads us to suppose that a study of radar theory\n",
    "would lead us to a relation like $Z(x,y)=e^{ih(x,y)}$,\n",
    "where $h(x,y)$ is altitude.\n",
    "We nonradar specialists often think of phase in\n",
    "$e^{i\\phi} = e^{i\\omega t_0(x,y)}$\n",
    "as being caused by some time delay and\n",
    "being defined for some constant frequency $\\omega$.\n",
    "Knowledge of this $\\omega$ (as well as some angle parameters)\n",
    "would define the physical units of $h(x,y)$.\n",
    "\n",
    "Because the flat land away from the mountain is all at the same phase\n",
    "(as is the altitude),\n",
    "the distance as revealed by the phase does not represent\n",
    "the distance from the ground to the satellite viewer.\n",
    "We are accustomed to measuring altitude along a vertical line to a datum;\n",
    "but here, the distance seems to be measured\n",
    "from the ground along a $23^\\circ$ angle from the vertical\n",
    "to a datum at the satellite height."
   ]
  },
  {
   "cell_type": "markdown",
   "metadata": {},
   "source": [
    "Phase is a troublesome measurement,\n",
    "because we generally see it modulo $2\\pi$.\n",
    "Marching up the mountain, we see the phase getting lighter and lighter\n",
    "until it suddenly jumps to black,\n",
    "which then continues to lighten\n",
    "as we continue up the mountain to the next jump.\n",
    "Let us undertake to compute the phase,\n",
    "including all its jumps of $2\\pi$.\n",
    "Begin with a complex number $Z$ representing\n",
    "the complex-valued image at any location\n",
    "in the $(x,y)$-plane."
   ]
  },
  {
   "cell_type": "markdown",
   "metadata": {},
   "source": [
    "\\begin{eqnarray}\n",
    "r e^{i \\phi}   &=& Z \\\\\n",
    "\\ln |r| + i \\phi &=& \\ln Z \\\\\n",
    "\\phi(x,y)            &=&  \\Im \\ln Z(x,y) ~+~  2\\pi N(x,y)\n",
    "\\end{eqnarray}\n",
    "Computers find the imaginary part of the logarithm\n",
    "with the arctan function of two arguments, atan2(y,x),\n",
    "which puts the phase in the range $-\\pi < \\phi \\le \\pi$,\n",
    "although any multiple of $2\\pi$ could be added.\n",
    "We seem to escape the $2\\pi N$ phase ambiguity by differentiating:\n",
    "\\begin{eqnarray}\n",
    "{\\partial\\phi \\over \\partial x} =\\Im {1 \\over Z}{\\partial Z \\over \\partial x} =\n",
    "                                   {\\Im  \\bar Z {\\partial Z \\over \\partial x} \\over \\bar Z Z }\n",
    "\\end{eqnarray}"
   ]
  },
  {
   "cell_type": "markdown",
   "metadata": {},
   "source": [
    "For every point on the $y$-axis, The above equation\n",
    "is a differential equation on the $x$-axis.\n",
    "We could integrate them all to find $\\phi(x,y)$.\n",
    "That sounds easy.\n",
    "On the other hand,\n",
    "the same equations are valid when $x$ and $y$ are interchanged,\n",
    "therefore we get twice as many equations as unknowns.\n",
    "Ideally either of these sets of equations\n",
    "is equivalent to the other;\n",
    "but for real data, we expect to be fitting this fitting goal:"
   ]
  },
  {
   "cell_type": "markdown",
   "metadata": {},
   "source": [
    "\\begin{equation}\n",
    "\\nabla \\phi \\quad \\approx \\quad {\\Im  \\bar Z \\nabla Z \\over \\bar Z Z}\n",
    "\\end{equation}\n",
    "where\n",
    "$\\nabla = ({\\partial \\over \\partial x}, {\\partial \\over \\partial y} ) $.\n",
    "Mathematically, computing phase this way\n",
    "is like our previous seismic flattening with\n",
    "$\\nabla \\tau \\approx {\\bf d}$.\n",
    "Taking measurements to be phase differences\n",
    "between neighboring mesh points,\n",
    "it is more correct to interpret the above as\n",
    "a difference equation than a differential equation.\n",
    "Because we measure phase differences only over tiny distances (one pixel),\n",
    "we hope not to worry about phases greater than $2\\pi$.\n",
    "But, if such jumps do occur, the jumps contribute to overall error.\n",
    "\\par\n",
    "Let us consider a typical location in the $(x , y )$ plane where the complex numbers\n",
    "$Z_{i,j}$ are given. Define a shorthand $a , b, c$, and $d$ as follows:"
   ]
  },
  {
   "cell_type": "markdown",
   "metadata": {},
   "source": [
    "\n",
    "\\begin{equation}\n",
    "        \\left[\n",
    "                \\begin{array}{ll}\n",
    "                a & b \\\\\n",
    "                c & d\n",
    "                \\end{array}\n",
    "        \\right]\n",
    "        =\n",
    "        \\left[\n",
    "                \\begin{array}{ll}\n",
    "                Z_{i,j}   & Z_{i,j+1} \\\\\n",
    "                Z_{i+1,j} & Z_{i+1,j+1}\n",
    "                \\end{array}\n",
    "        \\right]\n",
    "\\end{equation}\n",
    "With this shorthand, the difference equation representation of the fitting goal is:\n",
    "\\begin{equation}\n",
    "        \\begin{array}{rcl}\n",
    "                \\phi_{i+1,j} -\\phi_{i,j} &\\approx & \\Delta\\phi_{ac} \\\\\n",
    "                \\phi_{i,j+1} -\\phi_{i,j} &\\approx & \\Delta\\phi_{ab}\n",
    "        \\end{array}\n",
    "\\end{equation}\n",
    "Now,\n",
    "let us find the phase jumps between the various locations. Complex numbers $a$ and $b$ may be expressed in polar form, say $a=r_ae^{i\\phi_a}$ and $b=r_be^{i\\phi_b}$.\n",
    "The complex number\n",
    "$\\bar a b = r_a r_b e^{i(\\phi_b-\\phi_a)}$ has the desired phase\n",
    "$\\Delta \\phi_{ab}$."
   ]
  },
  {
   "cell_type": "markdown",
   "metadata": {},
   "source": [
    "To obtain it we take the imaginary part of the complex logarithm\n",
    "$\\ln |r_a r_b| + i\\Delta \\phi_{ab}$:\n",
    "\\begin{equation}\n",
    "  \\begin{array}{lllll}\n",
    "        \\phi_b-\\phi_a &=& \\Delta \\phi_{ab} &=& \\Im \\ln  \\bar a b\\\\\n",
    "        \\phi_d-\\phi_c &=& \\Delta \\phi_{cd} &=& \\Im \\ln  \\bar c d\\\\\n",
    "        \\phi_c-\\phi_a &=& \\Delta \\phi_{ac} &=& \\Im \\ln  \\bar a c\\\\\n",
    "        \\phi_d-\\phi_b &=& \\Delta \\phi_{bd} &=& \\Im \\ln  \\bar b d\n",
    "  \\end{array}\n",
    "\\end{equation}\n",
    "which gives the information needed to fill in the right side.\n",
    "\n",
    "The operator needed is\n",
    "gradient with its adjoint, the divergence.\n"
   ]
  },
  {
   "cell_type": "code",
   "execution_count": null,
   "metadata": {
    "colab": {
     "base_uri": "https://localhost:8080/",
     "height": 384
    },
    "id": "gTAFz39A7ZeB",
    "outputId": "2f195be8-c6fd-40d8-bf0a-fce6420dff47"
   },
   "outputs": [],
   "source": [
    "import holoviews as hv\n",
    "hv.extension('bokeh','matplotlib')\n",
    "real=io.get_reg_vector(np.real(vec.get_nd_array()),hyper=vec.get_hyper())\n",
    "imag=io.get_reg_vector(np.imag(vec.get_nd_array()),hyper=vec.get_hyper())\n",
    "\n",
    "print(real.min(),real.max(),imag.min(),imag.max())\n",
    "import sep_plot\n",
    "sep_plot.Grey(real,bpclip=0,epclip=100)+sep_plot.Grey(imag)"
   ]
  },
  {
   "cell_type": "code",
   "execution_count": null,
   "metadata": {
    "id": "EASuD3eL1PSK"
   },
   "outputs": [],
   "source": [
    "\n",
    "\n"
   ]
  },
  {
   "cell_type": "code",
   "execution_count": null,
   "metadata": {
    "colab": {
     "base_uri": "https://localhost:8080/"
    },
    "id": "W-nZ2edd2PqZ",
    "outputId": "4596b624-5afc-4c35-f81e-943d51453374"
   },
   "outputs": [],
   "source": [
    "from sep_python import Hypercube\n",
    "def make_data(cdata):\n",
    "  ns=cdata.get_hyper().get_ns()\n",
    "  ns.append(2)\n",
    "  hyper=Hypercube.set_with_ns(ns)\n",
    "  dat=io.get_reg_vector(hyper,data_format=np.float32)\n",
    "  dat.zero()\n",
    "  cin=cdata.get_nd_array()\n",
    "  d=dat.get_nd_array()\n",
    "  print(d.shape,hyper.get_ns())\n",
    "\n",
    "  a=cin[1:-1,1:-1]\n",
    "  c=cin[1:-1,2:]\n",
    "  b=cin[2:,1:-1]\n",
    "\n",
    "  d[0,1:-1,1:-1]=np.imag(np.log(c*np.conjugate(a)))\n",
    "  d[1,1:-1,1:-1]=np.imag(np.log(b*np.conjugate(a)))\n",
    "  return dat\n",
    "\n",
    "\n",
    "data=make_data(vec)\n"
   ]
  },
  {
   "cell_type": "code",
   "execution_count": null,
   "metadata": {
    "id": "4HKOZ6XvnLet"
   },
   "outputs": [],
   "source": []
  },
  {
   "cell_type": "code",
   "execution_count": null,
   "metadata": {
    "id": "zH8Ne0JRcdjR"
   },
   "outputs": [],
   "source": []
  },
  {
   "cell_type": "code",
   "execution_count": null,
   "metadata": {
    "colab": {
     "base_uri": "https://localhost:8080/"
    },
    "id": "9onU6NfBrDc8",
    "outputId": "54492bce-4edb-42e0-b599-009e079792f2"
   },
   "outputs": [],
   "source": [
    "from generic_solver import ProblemL2Linear\n",
    "from giee import Igrad2\n",
    "print(data.min(),data.max())\n",
    "\n",
    "model=io.get_reg_vector(vec.get_hyper(),dataFromat=\"float32\")\n",
    "lop=Igrad2(model,data)\n",
    "lop.dotTest(verbose=True)\n",
    "\n"
   ]
  },
  {
   "cell_type": "code",
   "execution_count": null,
   "metadata": {
    "colab": {
     "base_uri": "https://localhost:8080/"
    },
    "id": "tx_ctg0MuizD",
    "outputId": "7e76bf4f-722b-4301-8636-b828b7c70f81"
   },
   "outputs": [],
   "source": [
    "x=model.clone()\n",
    "print(data.min(),data.max())"
   ]
  },
  {
   "cell_type": "code",
   "execution_count": null,
   "metadata": {
    "colab": {
     "base_uri": "https://localhost:8080/"
    },
    "id": "nLdqLKvAtaul",
    "outputId": "414328c4-934d-4f65-8d52-87876de81cca"
   },
   "outputs": [],
   "source": [
    "print(model.arr.max())"
   ]
  },
  {
   "cell_type": "code",
   "execution_count": null,
   "metadata": {
    "colab": {
     "base_uri": "https://localhost:8080/"
    },
    "id": "d42qwvql3W1v",
    "outputId": "3f2267f8-3d3d-4e12-bc0d-ed3cb943fe26"
   },
   "outputs": [],
   "source": [
    "%xmode verbose\n",
    "from generic_solver import LCGsolver\n",
    "from generic_solver import BasicStopper \n",
    "model.zero()\n",
    "problem=ProblemL2Linear(model,data,lop)\n",
    "stopper=BasicStopper(niter=500)\n",
    "solver=LCGsolver(stopper)\n",
    "solver.setDefaults(save_obj=True,save_res=True,iter_sampling=5)\n",
    "problem.data.dot(problem.data)\n",
    "solver.run(problem,verbose=True)"
   ]
  },
  {
   "cell_type": "code",
   "execution_count": null,
   "metadata": {
    "colab": {
     "base_uri": "https://localhost:8080/",
     "height": 347
    },
    "id": "xCGUzVBo3gHj",
    "outputId": "ef240fd6-fcb2-4a25-bff5-5dfa2069fcd7"
   },
   "outputs": [],
   "source": [
    "import holoviews as hv\n",
    "hv.extension('bokeh','matplotlib')\n",
    "sep_plot.Grey(problem.res,bpclip=5,epclip=95)"
   ]
  },
  {
   "cell_type": "code",
   "execution_count": null,
   "metadata": {
    "colab": {
     "base_uri": "https://localhost:8080/",
     "height": 347
    },
    "id": "tf6gTBuOLLhP",
    "outputId": "662c11df-f988-427d-fa28-62aee458fc84"
   },
   "outputs": [],
   "source": [
    "import holoviews as hv\n",
    "hv.extension('bokeh','matplotlib')\n",
    "sep_plot.Grey(problem.model,bpclip=0,epclip=100)"
   ]
  },
  {
   "cell_type": "code",
   "execution_count": null,
   "metadata": {
    "colab": {
     "base_uri": "https://localhost:8080/",
     "height": 282
    },
    "id": "imzDY6Gnnh84",
    "outputId": "1c166820-147d-41f7-836f-769e24a0f3ec"
   },
   "outputs": [],
   "source": [
    "import matplotlib.pyplot as plt\n",
    "\n",
    "plt.plot(solver.obj[0:])"
   ]
  },
  {
   "cell_type": "code",
   "execution_count": null,
   "metadata": {
    "colab": {
     "base_uri": "https://localhost:8080/",
     "height": 347
    },
    "id": "WpaiKL0fqTh3",
    "outputId": "a703466c-81cc-4778-981c-f84f2b225b35"
   },
   "outputs": [],
   "source": [
    "import holoviews as hv\n",
    "hv.extension('bokeh','matplotlib')\n",
    "sep_plot.Grey(solver.res[0],bpclip=5,epclip=95)"
   ]
  },
  {
   "cell_type": "code",
   "execution_count": null,
   "metadata": {
    "id": "S4uq4W4T823N"
   },
   "outputs": [],
   "source": []
  },
  {
   "cell_type": "code",
   "execution_count": null,
   "metadata": {
    "colab": {
     "base_uri": "https://localhost:8080/",
     "height": 367
    },
    "id": "DhlX1ZDlrgnG",
    "outputId": "c17e109f-0d50-4157-8dcd-b98a7908ab7e"
   },
   "outputs": [],
   "source": [
    "import scipy.signal\n",
    "import holoviews as hv\n",
    "hv.extension('bokeh','matplotlib')\n",
    "real_new=real.clone()\n",
    "imag_new=imag.clone()\n",
    "real_new.get_nd_array()[:]=scipy.signal.medfilt2d(real.get_nd_array(), kernel_size=7)\n",
    "imag_new.get_nd_array()[:]=scipy.signal.medfilt2d(imag.get_nd_array(), kernel_size=7)\n",
    "\n",
    "sep_plot.Grey(real_new,bpclip=0,epclip=100)+sep_plot.Grey(imag_new)"
   ]
  },
  {
   "cell_type": "code",
   "execution_count": null,
   "metadata": {
    "colab": {
     "base_uri": "https://localhost:8080/",
     "height": 367
    },
    "id": "iCCr0XYr8wMg",
    "outputId": "05282202-95e5-4c25-ecdf-fcbb3fc848f1"
   },
   "outputs": [],
   "source": [
    "\n",
    "import holoviews as hv\n",
    "hv.extension('bokeh','matplotlib')\n",
    "complexD=real_new.get_nd_array()+imag_new.get_nd_array()*1.j\n",
    "vec_new=io.get_reg_vector(complexD,hyper=vec.get_hyper())\n",
    "amp_new=io.get_reg_vector(np.absolute(complexD),hyper=vec.get_hyper())\n",
    "phase_new=io.get_reg_vector(np.angle(complexD),hyper=vec.get_hyper())\n",
    "phaseD=phase_new.clone()\n",
    "phaseD.scale_add(phase,sc2=-1.)\n",
    "sep_plot.Grey(amp_new,bpclip=3,epclip=97)+sep_plot.Grey(phase_new)\n"
   ]
  },
  {
   "cell_type": "code",
   "execution_count": null,
   "metadata": {
    "colab": {
     "base_uri": "https://localhost:8080/"
    },
    "id": "DwTsDkB_9p4-",
    "outputId": "2f289dd2-25e0-408c-dcfd-08691c1a870d"
   },
   "outputs": [],
   "source": [
    "data_new=make_data(vec_new)\n",
    "model.zero()\n",
    "problem=ProblemL2Linear(model,data_new,lop)\n",
    "stopper=BasicStopper(niter=500)\n",
    "solver=LCGsolver(stopper)\n",
    "solver.setDefaults(save_obj=True,save_res=True,iter_sampling=5)\n",
    "problem.data.dot(problem.data)\n",
    "solver.run(problem,verbose=True)\n"
   ]
  },
  {
   "cell_type": "code",
   "execution_count": null,
   "metadata": {
    "colab": {
     "base_uri": "https://localhost:8080/",
     "height": 282
    },
    "id": "1XPah0QP_jEo",
    "outputId": "e7cfdfca-a0d7-4ee8-fa05-517162b68d73"
   },
   "outputs": [],
   "source": [
    "import matplotlib.pyplot as plt\n",
    "\n",
    "plt.plot(solver.obj[0:])"
   ]
  },
  {
   "cell_type": "code",
   "execution_count": null,
   "metadata": {
    "colab": {
     "base_uri": "https://localhost:8080/",
     "height": 347
    },
    "id": "k8xGixub_7PC",
    "outputId": "c9720651-2f02-4f3c-959a-d8ebf0e4f359"
   },
   "outputs": [],
   "source": [
    "import holoviews as hv\n",
    "hv.extension('bokeh','matplotlib')\n",
    "sep_plot.Grey(problem.res,bpclip=0,epclip=100)"
   ]
  },
  {
   "cell_type": "code",
   "execution_count": null,
   "metadata": {
    "colab": {
     "base_uri": "https://localhost:8080/",
     "height": 347
    },
    "id": "p5UUv_W8ADOk",
    "outputId": "5a91298c-6e3e-45e2-e418-f24f91656977"
   },
   "outputs": [],
   "source": [
    "import holoviews as hv\n",
    "hv.extension('bokeh','matplotlib')\n",
    "sep_plot.Grey(problem.model,bpclip=0,epclip=100)"
   ]
  },
  {
   "cell_type": "code",
   "execution_count": null,
   "metadata": {
    "id": "HQUCN2RZAR2E"
   },
   "outputs": [],
   "source": []
  },
  {
   "cell_type": "code",
   "execution_count": null,
   "metadata": {},
   "outputs": [],
   "source": []
  }
 ],
 "metadata": {
  "colab": {
   "authorship_tag": "ABX9TyOHmrmKjm6LyeTsQv/rt4kJ",
   "include_colab_link": true,
   "provenance": []
  },
  "kernelspec": {
   "display_name": "Python 3 (ipykernel)",
   "language": "python",
   "name": "python3"
  },
  "language_info": {
   "codemirror_mode": {
    "name": "ipython",
    "version": 3
   },
   "file_extension": ".py",
   "mimetype": "text/x-python",
   "name": "python",
   "nbconvert_exporter": "python",
   "pygments_lexer": "ipython3",
   "version": "3.9.9"
  }
 },
 "nbformat": 4,
 "nbformat_minor": 4
}
