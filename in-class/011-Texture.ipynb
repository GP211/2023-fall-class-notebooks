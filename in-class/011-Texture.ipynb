{
 "cells": [
  {
   "cell_type": "markdown",
   "id": "cbbb5ea0-28f1-4d2d-b0ff-6664a4084029",
   "metadata": {},
   "source": [
    "<a href=\"https://colab.research.google.com/github/rgclapp007/gp211-class-notebooks/blob/pef/texture.ipynb\" target=\"_parent\"><img src=\"https://colab.research.google.com/assets/colab-badge.svg\" alt=\"Open In Colab\"/></a>"
   ]
  },
  {
   "cell_type": "markdown",
   "id": "0b7b0b2a-6adc-441d-84d5-ca11432ffd29",
   "metadata": {
    "tags": []
   },
   "source": []
  },
  {
   "cell_type": "code",
   "execution_count": null,
   "id": "a234e30d-2e0f-4eb4-9366-113891d6169e",
   "metadata": {},
   "outputs": [],
   "source": [
    "%load_ext autoreload\n",
    "%autoreload 2\n",
    "import sys\n",
    "\n",
    "python3 -m pip install \"giee @ git+https://github.com/GP211/2023-fall-class-notebooks.git@76b189f5835d406aa3a1114a1e6dc3228b549384\" "
   ]
  },
  {
   "cell_type": "code",
   "execution_count": null,
   "id": "4eb10f09-c58c-41e4-8d82-a2d0edf837f2",
   "metadata": {
    "tags": []
   },
   "outputs": [],
   "source": []
  },
  {
   "cell_type": "code",
   "execution_count": null,
   "id": "6a2cbf6c-5927-4b94-9466-d045e93bbd6a",
   "metadata": {
    "tags": []
   },
   "outputs": [],
   "source": [
    "textures=[\"brick\",\"granite\",\"ridges\",\"sfbay\",\"twofreq\",\"brickpef\",\"herr\",\"ridgespef\",\"skull\",\"wood\",\"fabric\",\"polygons\",\"sepele\",\"stanford.tree\",\"woodpef\"]"
   ]
  },
  {
   "cell_type": "code",
   "execution_count": null,
   "id": "c633b2aa-6727-4cab-9555-75b89c9e7ea0",
   "metadata": {
    "tags": []
   },
   "outputs": [],
   "source": [
    "import numpy as np\n",
    "from sep_python import Hypercube, default_io\n",
    "io=default_io\n"
   ]
  },
  {
   "cell_type": "code",
   "execution_count": null,
   "id": "f70241a6-bf0a-4ba3-91f1-cdc9e62b5ef5",
   "metadata": {
    "tags": []
   },
   "outputs": [],
   "source": [
    "from generic_solver import ProblemL2Linear,ProblemL2LinearReg\n",
    "from generic_solver import  LCGsolver, BasicStopper\n",
    "from generic_solver._pyOperator import ChainOperator\n",
    "from sep_plot import Grey\n",
    "def findPef(texture,sh,zero):\n",
    "    filt=boxFilter.PEF(sh,zero)\n",
    "    data=texture.clone()\n",
    "    op=convOpAdjFilter(filt,data,data)\n",
    "    data.scale(-1.)\n",
    "    prob=ProblemL2Linear(filt,data,op)\n",
    "    #-d = D f  \n",
    "    stop=BasicStopper(niter=1000)\n",
    "    solve=LCGsolver(stop)\n",
    "    solve.setDefaults(save_model=True)\n",
    "    solve.run(prob,verbose=True)\n",
    "    return prob.model,prob.res\n",
    "\n",
    "\n",
    "def do_texture(nm):\n",
    "    vec=io.vector_from_storage(f\"../data/{nm}.H\")\n",
    "    filt,rr=findPef(vec,(2,9),(0,5))\n",
    "    op=convOpAdjData(vec,vec,filt)\n",
    "    res=vec.clone()\n",
    "    op.forward(False,vec,res)\n",
    "    return Grey(vec)+Grey(res)+Grey(rr)"
   ]
  },
  {
   "cell_type": "code",
   "execution_count": null,
   "id": "f3234739-7697-4cdb-ae9e-59befdec19ee",
   "metadata": {
    "scrolled": true,
    "tags": []
   },
   "outputs": [],
   "source": [
    "nm=\"wood\"\n",
    "do_texture(nm)\n",
    "#vec=io.vector_from_storage(f\"./data/textures/{nm}.H\")\n",
    "#Grey(vec)"
   ]
  },
  {
   "cell_type": "code",
   "execution_count": null,
   "id": "d6842dfd-b7d8-4dfd-bd8c-e1583777b957",
   "metadata": {},
   "outputs": [],
   "source": []
  },
  {
   "cell_type": "code",
   "execution_count": null,
   "id": "4854ad52-d789-43be-9557-6100817f1518",
   "metadata": {},
   "outputs": [],
   "source": []
  },
  {
   "cell_type": "code",
   "execution_count": null,
   "id": "fd8755a8-7878-43cb-8b96-ad41beaf3f0e",
   "metadata": {},
   "outputs": [],
   "source": []
  },
  {
   "cell_type": "code",
   "execution_count": null,
   "id": "b6016c20-8283-4f3b-b41c-2060f796bdb9",
   "metadata": {},
   "outputs": [],
   "source": []
  },
  {
   "cell_type": "code",
   "execution_count": null,
   "id": "f26f0180-b22c-4e6c-9544-89625c6b418d",
   "metadata": {},
   "outputs": [],
   "source": []
  },
  {
   "cell_type": "code",
   "execution_count": null,
   "id": "e65005a4-12ca-4555-be82-bf3d4fc8d6ed",
   "metadata": {},
   "outputs": [],
   "source": []
  }
 ],
 "metadata": {
  "kernelspec": {
   "display_name": "Python 3 (ipykernel)",
   "language": "python",
   "name": "python3"
  },
  "language_info": {
   "codemirror_mode": {
    "name": "ipython",
    "version": 3
   },
   "file_extension": ".py",
   "mimetype": "text/x-python",
   "name": "python",
   "nbconvert_exporter": "python",
   "pygments_lexer": "ipython3",
   "version": "3.9.9"
  }
 },
 "nbformat": 4,
 "nbformat_minor": 5
}
