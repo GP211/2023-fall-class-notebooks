{
 "cells": [
  {
   "cell_type": "markdown",
   "id": "8729a4f4-1c21-4bba-bfb3-909d6465139f",
   "metadata": {},
   "source": [
    "[![Open In Colab](https://colab.research.google.com/assets/colab-badge.svg)](https://colab.research.google.com/github/GP211/2023-fall-class-notebooks/blob/main/in-class/galilee.ipynb)"
   ]
  },
  {
   "cell_type": "code",
   "execution_count": null,
   "id": "323258e9-5d38-411a-bf29-cf5567a9acd2",
   "metadata": {},
   "outputs": [],
   "source": []
  },
  {
   "cell_type": "code",
   "execution_count": null,
   "id": "ba45484e-0768-4f3f-af0a-f3b8d1aa58e1",
   "metadata": {
    "scrolled": true
   },
   "outputs": [],
   "source": [
    "%load_ext autoreload\n",
    "%autoreload 2\n",
    "import sys\n",
    "\n",
    "! pip install  \"sep_plot @ git+https://github.com/SEP-software/sep-plot.git@2c0d7859a30cc97d8cd18139655c54c97cdb2615\" \n",
    "import generic_solver\n"
   ]
  },
  {
   "cell_type": "code",
   "execution_count": null,
   "id": "b55c826f-153c-4bfe-a5fc-0424baff874b",
   "metadata": {},
   "outputs": [],
   "source": [
    "! wget https://github.com/GP211/2023-fall-class-notebooks/raw/main/data/galilee.H"
   ]
  },
  {
   "cell_type": "code",
   "execution_count": null,
   "id": "74ad47ba-b8da-4234-bcbf-98626387191f",
   "metadata": {},
   "outputs": [],
   "source": [
    "from sep_python import default_io\n",
    "vec=default_io.vector_from_storage(\"./galilee.H\")"
   ]
  },
  {
   "cell_type": "code",
   "execution_count": null,
   "id": "2ac8727c-c48a-4f7e-b2fd-c00528d1bd3a",
   "metadata": {},
   "outputs": [],
   "source": [
    "print(vec)"
   ]
  },
  {
   "cell_type": "code",
   "execution_count": null,
   "id": "290a334b-3856-4116-9ea8-3995bc169b17",
   "metadata": {},
   "outputs": [],
   "source": [
    "import copy\n",
    "from generic_solver._pyOperator import Operator\n",
    "class Bin2D(Operator):\n",
    "\n",
    "    def __init__(self, mod, dat, xy):\n",
    "        \"\"\"\n",
    "        Initialize the binning operator.\n",
    "        \"\"\"\n",
    "        super().__init__(mod, dat)\n",
    "        hyper = mod.get_hyper()\n",
    "        \n",
    "        ax0 = hyper.axes[0]\n",
    "        n1, o1, d1 = ax0.n, ax0.o, ax0.d\n",
    "        \n",
    "        ax1 = hyper.axes[1]\n",
    "        n2, o2, d2 = ax1.n, ax1.o, ax1.d\n",
    "        \n",
    "        num_points = xy.shape[1]\n",
    "        self._i1 = np.zeros(num_points, dtype=np.int32)\n",
    "        self._i2 = np.zeros(num_points, dtype=np.int32)\n",
    "        self._sc = np.ones(num_points)\n",
    "        \n",
    "        for x_val, y_val, index, in zip(xy[0], xy[1],range(num_points)):\n",
    "            self._i1[index] = (x_val - o1) / d1 + 0.5\n",
    "            self._i2[index] = (y_val - o2) / d2 + 0.5\n",
    "            \n",
    "            # Check for out-of-bounds indices\n",
    "            if self._i1[index] < 0 or self._i2[index] < 0 or self._i1[index] >= n1 or self._i2[index] >= n2:\n",
    "                self._i1[index] = 0\n",
    "                self._i2[index] = 0\n",
    "                self._sc[index] = 0\n",
    "\n",
    "    def forward(self, add, mod, dat):\n",
    "        \"\"\"\n",
    "        Forward operation.\n",
    "        \"\"\"\n",
    "        self.checkDomainRange(mod, dat)\n",
    "        if not add:\n",
    "            dat.zero()\n",
    "        for d_val, i1_val, i2_val, sc_val in zip(dat, self._i1, self._i2, self._sc):\n",
    "            d_val += sc_val * mod[i1_val, i2_val]\n",
    "\n",
    "    def adjoint(self, add, mod, dat):\n",
    "        \"\"\"\n",
    "        Adjoint operation.\n",
    "        \"\"\"\n",
    "        self.checkDomainRange(mod, dat)\n",
    "        if not add:\n",
    "            mod.zero()\n",
    "\n",
    "        for i1_val, i2_val, sc_val, d_val in zip( self._i1, self._i2, self._sc, dat):\n",
    "            mod[i1_val, i2_val] += sc_val * d_val\n"
   ]
  },
  {
   "cell_type": "markdown",
   "id": "12978846-963b-483b-94ef-a22536f03a25",
   "metadata": {},
   "source": [
    "## Find the range of x,y "
   ]
  },
  {
   "cell_type": "code",
   "execution_count": null,
   "id": "93ef23ed-674a-4868-b9df-eb4920daf02d",
   "metadata": {},
   "outputs": [],
   "source": [
    "xyz=vec.get_nd_array()\n",
    "x=xyz[:,0]\n",
    "y=xyz[:,1]\n",
    "z=xyz[:,2]\n",
    "print(f\"range of x : {x.min()} - {x.max()}\")\n",
    "print(f\"range of y : {y.min()} - {y.max()}\")\n",
    "print(f\"range of z : {z.min()} - {z.max()}\")"
   ]
  },
  {
   "cell_type": "markdown",
   "id": "d7171d60-560b-405a-9f76-b48b23bff8a8",
   "metadata": {},
   "source": [
    "## Define our regular grid"
   ]
  },
  {
   "cell_type": "code",
   "execution_count": null,
   "id": "3191172f-06c1-4de8-93e2-38b5c5f0140a",
   "metadata": {},
   "outputs": [],
   "source": [
    "n1=200\n",
    "n2=200\n",
    "o1=198\n",
    "o2=234\n",
    "d1=(213-o1)/n1\n",
    "d2=(256-234)/n2"
   ]
  },
  {
   "cell_type": "markdown",
   "id": "7b499a6d-5dfd-4d83-b402-187a2c2181cc",
   "metadata": {},
   "source": [
    "## Create our model space"
   ]
  },
  {
   "cell_type": "code",
   "execution_count": null,
   "id": "b2143464-4bad-45a2-8888-d2625356e8d3",
   "metadata": {},
   "outputs": [],
   "source": [
    "from sep_python import Axis,Hypercube, get_sep_vector\n",
    "ax1=Axis(n=n1,o=o1,d=d1)\n",
    "ax2=Axis(n=n2,o=o2,d=d2)\n",
    "hyper=Hypercube([ax1,ax2])\n",
    "mod=get_sep_vector(hyper)"
   ]
  },
  {
   "cell_type": "code",
   "execution_count": null,
   "id": "0faf71c4-4ab1-4640-9fd8-99d3ef06b6ab",
   "metadata": {},
   "outputs": [],
   "source": [
    "# Create our data "
   ]
  },
  {
   "cell_type": "code",
   "execution_count": null,
   "id": "089e64ee-caa6-41e6-9448-0454a7bea813",
   "metadata": {},
   "outputs": [],
   "source": [
    "dat=get_sep_vector(z)"
   ]
  },
  {
   "cell_type": "markdown",
   "id": "a76f5cec-a826-4420-9983-f91d07d201b8",
   "metadata": {},
   "source": [
    "# Hessian approximation \n",
    "Create a function that approximates the inverse hessian "
   ]
  },
  {
   "cell_type": "code",
   "execution_count": null,
   "id": "658159cd-d271-40b0-916d-dd05f13a1fb8",
   "metadata": {},
   "outputs": [],
   "source": [
    "def diagonal_approx(oper):\n",
    "    dat=oper.range.clone()\n",
    "    mod=oper.domain.clone()\n",
    "    mod.zero()\n",
    "    dat[:]=1\n",
    "    oper.adjoint(False,mod,dat)\n",
    "    return np.where(mod.get_nd_array() !=0, 1./mod.get_nd_array(), 0)\n"
   ]
  },
  {
   "cell_type": "markdown",
   "id": "06e613a3-ed70-4f9e-a105-0751312499e3",
   "metadata": {},
   "source": [
    "## Form our operator"
   ]
  },
  {
   "cell_type": "code",
   "execution_count": null,
   "id": "d3a9f531-8488-4897-8c17-f77f0faee720",
   "metadata": {},
   "outputs": [],
   "source": [
    "import numpy as np\n",
    "xy=np.vstack((x,y))\n",
    "bin_op=bin_2d(mod,dat,xy)"
   ]
  },
  {
   "cell_type": "code",
   "execution_count": null,
   "id": "7a523160-bf95-4603-855d-ab2847192e73",
   "metadata": {},
   "outputs": [],
   "source": [
    "## Approximate the inverse"
   ]
  },
  {
   "cell_type": "code",
   "execution_count": null,
   "id": "a35d52a7-3d6b-44da-9236-29c728cf8312",
   "metadata": {
    "scrolled": true
   },
   "outputs": [],
   "source": [
    "mprime=mod.clone()\n",
    "bin_op.adjoint(False, mprime,dat)\n",
    "approx=diagonal_approx(bin_op)\n",
    "mod[:,:]=mprime[:,:]*approx[:,:]"
   ]
  },
  {
   "cell_type": "code",
   "execution_count": null,
   "id": "27ae523d-7483-4884-9ecd-e6d539870f0e",
   "metadata": {},
   "outputs": [],
   "source": []
  },
  {
   "cell_type": "code",
   "execution_count": null,
   "id": "e50b0c20-5204-431a-8cf4-3faa90260347",
   "metadata": {},
   "outputs": [],
   "source": []
  },
  {
   "cell_type": "code",
   "execution_count": null,
   "id": "a2b4c10f-651e-477f-bf52-a93484da3407",
   "metadata": {},
   "outputs": [],
   "source": [
    "import sep_plot\n",
    "sep_plot.Grey(mod,bclip=-250 ,eclip=-200,invert_yaxis=False)"
   ]
  },
  {
   "cell_type": "code",
   "execution_count": null,
   "id": "f45d8c87-6275-4a3a-a078-09517ac73ade",
   "metadata": {},
   "outputs": [],
   "source": []
  },
  {
   "cell_type": "code",
   "execution_count": null,
   "id": "2cff790e-9986-4e2e-bc39-113c35db75a8",
   "metadata": {},
   "outputs": [],
   "source": []
  },
  {
   "cell_type": "code",
   "execution_count": null,
   "id": "05c6f0d5-48ab-4b61-b958-e46897f36e06",
   "metadata": {},
   "outputs": [],
   "source": []
  },
  {
   "cell_type": "code",
   "execution_count": null,
   "id": "0ee319a2-3146-41c4-b56d-8159cc5c8d58",
   "metadata": {},
   "outputs": [],
   "source": []
  },
  {
   "cell_type": "code",
   "execution_count": null,
   "id": "a74572a4-9032-4a16-893b-42f4c4c6d418",
   "metadata": {},
   "outputs": [],
   "source": []
  },
  {
   "cell_type": "code",
   "execution_count": null,
   "id": "332e214b-e4c5-437e-be63-0a2d6c113dca",
   "metadata": {},
   "outputs": [],
   "source": []
  }
 ],
 "metadata": {
  "kernelspec": {
   "display_name": "Python 3 (ipykernel)",
   "language": "python",
   "name": "python3"
  },
  "language_info": {
   "codemirror_mode": {
    "name": "ipython",
    "version": 3
   },
   "file_extension": ".py",
   "mimetype": "text/x-python",
   "name": "python",
   "nbconvert_exporter": "python",
   "pygments_lexer": "ipython3",
   "version": "3.9.9"
  }
 },
 "nbformat": 4,
 "nbformat_minor": 5
}
