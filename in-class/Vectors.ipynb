{
  "nbformat": 4,
  "nbformat_minor": 0,
  "metadata": {
    "colab": {
      "provenance": []
    },
    "kernelspec": {
      "name": "python3",
      "display_name": "Python 3"
    },
    "language_info": {
      "name": "python"
    }
  },
  "cells": [
    {
      "cell_type": "code",
      "execution_count": null,
      "metadata": {
        "id": "xypUmN_-iFOT"
      },
      "outputs": [],
      "source": []
    },
    {
      "cell_type": "markdown",
      "source": [
        "# Vectors\n",
        "\n",
        "We will begin by making an abstract vector class"
      ],
      "metadata": {
        "id": "SdZSCYEfiKl5"
      }
    },
    {
      "cell_type": "code",
      "source": [
        "from abc import ABC, abstractmethod\n",
        "\n",
        "class vector(ABC):\n",
        "  \"\"\"An abstract class for vectors for inverse problems\"\"\"\n",
        "  def __init__(self):\n",
        "    \"\"\"Default initializer for an abstract class\"\"\"\n",
        "    pass;\n",
        "\n",
        "  @abstractmethod\n",
        "  def check_same(self,vec2):\n",
        "    \"\"\"Check to see if another vector belongs to the\n",
        "       same vector space\n",
        "    \"\"\"\n",
        "\n",
        "  @abstractmethod\n",
        "  def scale(self,sc:float):\n",
        "    \"\"\"Scale a vector by another vector\"\"\"\n",
        "\n",
        "  @abstractmethod\n",
        "  def scale_add(self,vec2,sc1:float=1,sc2:float=1):\n",
        "    \"\"\"Scale a vector by another vector, scaling both\n",
        "\n",
        "        self*sc1+sc2*vec2\n",
        "\n",
        "        vec2 - Vector to add to the current vector\n",
        "        sc1 -  How much to scale the current vector by\n",
        "        sc2 -  How much to scale the vec2 by\n",
        "\n",
        "\n",
        "    \"\"\"\n",
        "\n",
        "  @abstractmethod\n",
        "  def dot(self,vec2):\n",
        "    \"\"\"Calculate the dot product of a vector with the current vector\n",
        "\n",
        "      vec2 - the vector to dot the current vector with\n",
        "\n",
        "    \"\"\"\n",
        "\n",
        "  @abstractmethod\n",
        "  def clone(self):\n",
        "    \"\"\"Make a copy of the vector\"\"\"\n",
        "\n"
      ],
      "metadata": {
        "id": "DkTMJNsFiSes"
      },
      "execution_count": null,
      "outputs": []
    },
    {
      "cell_type": "code",
      "source": [
        "import numpy as np\n",
        "class vec_numpy(vector):\n",
        "\n",
        "  def __init__(self,vals:np.ndarray):\n",
        "    if not isinstance(vals,np.ndarray):\n",
        "      raise Exception(\"Expecting vals to be an nd-array\")"
      ],
      "metadata": {
        "id": "tgnaC3g8iW7A"
      },
      "execution_count": null,
      "outputs": []
    },
    {
      "cell_type": "code",
      "source": [
        "class vec_1d(vector):\n",
        "  def __init__(self,n,o,d,vals=None):\n",
        "    self._n=n\n",
        "    self._o=o\n",
        "    self._d=d\n",
        "    if vals!=None:\n",
        "      if not isinstance(vals,np.ndarray):\n",
        "        raise Exception(\"Expecting vals to be a numpy array\")\n",
        "      if len(vals.shape)!=1:\n",
        "        raise Exception(\"Expecting a 1-D array\")\n",
        "      if vals.shape[0]!=self._n:\n",
        "        raise Exception(f\"Expecting the size of arr to be = {n}\")\n",
        "      self._arr=copy.deepcopy(arr)\n",
        "    else:\n",
        "      self._arr=np.zeros((self._n,))\n"
      ],
      "metadata": {
        "id": "xNgAfsnYjRon"
      },
      "execution_count": null,
      "outputs": []
    },
    {
      "cell_type": "code",
      "source": [],
      "metadata": {
        "id": "F6ELp1e6jfLp"
      },
      "execution_count": null,
      "outputs": []
    }
  ]
}