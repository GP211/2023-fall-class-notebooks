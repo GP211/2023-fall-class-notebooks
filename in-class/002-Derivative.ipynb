{
 "cells": [
  {
   "cell_type": "markdown",
   "id": "44dfc8e8-7179-4800-b3a3-acdc2e38a147",
   "metadata": {},
   "source": [
    "# Our first operator in starting to use the software stack"
   ]
  },
  {
   "cell_type": "markdown",
   "id": "cb70b4fb-625c-4280-a6e7-3185d427343a",
   "metadata": {},
   "source": [
    "\n",
    "[![Open In Colab](https://colab.research.google.com/assets/colab-badge.svg)](https://colab.research.google.com/github/GP211/2023-fall-class-notebooks/blob/main/in-class/Derivative.ipynb)"
   ]
  },
  {
   "cell_type": "code",
   "execution_count": null,
   "id": "06a26d65-216d-4941-a3b6-a3121e56f76a",
   "metadata": {},
   "outputs": [],
   "source": [
    "%load_ext autoreload\n",
    "%autoreload 2\n",
    "import sys\n",
    "\n"
   ]
  },
  {
   "cell_type": "code",
   "execution_count": null,
   "id": "9bfb690e-c9c2-4bb4-8c94-1f91eec73083",
   "metadata": {},
   "outputs": [],
   "source": [
    "! pip install  \"sep_plot @ git+https://github.com/SEP-software/sep-plot.git@6331a1e36d8e3cdb4cfbc3539f31bdad1eb465a7\" "
   ]
  },
  {
   "cell_type": "code",
   "execution_count": null,
   "id": "5d1202a7-9b74-4cf0-939c-34da2c69ef52",
   "metadata": {},
   "outputs": [],
   "source": [
    "! wget https://github.com/GP211/2023-fall-class-notebooks/raw/main/data/bay.H"
   ]
  },
  {
   "cell_type": "code",
   "execution_count": null,
   "id": "ebc167b8-d1e8-4930-940e-4ccf511baa50",
   "metadata": {},
   "outputs": [],
   "source": [
    "import matplotlib.pyplot as plt\n",
    "from sep_python import default_io\n",
    "vec=default_io.vector_from_storage(\"./bay.H\")\n",
    "plt.imshow(vec.get_nd_array())\n",
    "v=vec.get_nd_array()\n"
   ]
  },
  {
   "cell_type": "code",
   "execution_count": null,
   "id": "115a7e07-d232-413c-9a04-2f9c90667fa4",
   "metadata": {},
   "outputs": [],
   "source": [
    "from abc import ABC, abstractmethod\n",
    "class operator(ABC):\n",
    "  \"\"\"An abstract class for operators for inverse problems\"\"\"\n",
    "  def __init__(self,domain,range):\n",
    "    \"\"\"Default initializer for an abstract class\n",
    "\n",
    "      domain - Domain of operator\n",
    "      range. - Range of operator\n",
    "\n",
    "    \"\"\"\n",
    "    self._domain=domain.clone()\n",
    "    self._range=range.clone()\n",
    "\n",
    "  @abstractmethod\n",
    "  def forward(self,add,model,data):\n",
    "    \"\"\"\n",
    "      Run a forward\n",
    "\n",
    "      add - Whether or not to add to the output\n",
    "      model - Model (input)\n",
    "      data. - Data (output)\n",
    "\n",
    "\n",
    "    \"\"\"\n",
    "\n",
    "\n",
    "  @abstractmethod\n",
    "  def adjoint(self,add,model,data):\n",
    "    \"\"\"\n",
    "      Run an adjoint\n",
    "\n",
    "      add - Whether or not to add to the output\n",
    "      model - Model (output)\n",
    "      data. - Data (output)\n",
    "\n",
    "\n",
    "    \"\"\"\n",
    "\n",
    "  def check_same(self,model,data):\n",
    "    \"\"\"\n",
    "      Check to see if model and data match operator initialization\n",
    "\n",
    "        model - Model space\n",
    "        data. - data space\n",
    "    \"\"\"\n",
    "    if not self._domain.check_same(model):\n",
    "      raise Exception(\"model and domain don't match\")\n",
    "\n",
    "    if not self._range.check_same(data):\n",
    "      raise Exception(\"range and data don't match\")\n"
   ]
  },
  {
   "cell_type": "code",
   "execution_count": null,
   "id": "da44f5d7-2102-44fc-98d4-7ee2666d1a8c",
   "metadata": {},
   "outputs": [],
   "source": [
    "class deriv_op(operator):\n",
    "\n",
    "    def __init__(self,model,data):\n",
    "        super().__init__(model,data)\n",
    "\n",
    "    def forward(self,add,model,data):\n",
    "        self.check_same(model,data)\n",
    "        if not add: \n",
    "            data.zero()\n",
    "        m=model.get_nd_array()\n",
    "        d=data.get_nd_array()\n",
    "        for i in range(m.shape[0]-1):\n",
    "            for j in range(m.shape[1]):\n",
    "                d[i+1,j]+=m[i+1,j]-m[i,j]\n",
    "    def adjoint(self,add,model,data):\n",
    "        self.check_same(model,data)\n",
    "        if not add: \n",
    "            model.zero()\n",
    "        m=model.get_nd_array()\n",
    "        d=data.get_nd_array()\n",
    "\n",
    "        for i in range(m.shape[0]):\n",
    "            for j in range(m.shape[1]-1):\n",
    "                m[i,j+1]+=d[i,j+1]\n",
    "                m[i,j]-=d[i,j+1]\n",
    "                "
   ]
  },
  {
   "cell_type": "code",
   "execution_count": null,
   "id": "96d30555-02c5-4621-800b-42da30d6cccb",
   "metadata": {},
   "outputs": [],
   "source": [
    "mod=vec.clone()\n",
    "dat=vec.clone()\n",
    "dat.zero()\n",
    "op=deriv_op(mod,dat)"
   ]
  },
  {
   "cell_type": "code",
   "execution_count": null,
   "id": "0e84eee5-8903-4a18-8b35-e801e2f30744",
   "metadata": {},
   "outputs": [],
   "source": [
    "import sep_plot\n",
    "op.forward(False,mod,dat)\n",
    "sep_plot.Grey(dat)"
   ]
  },
  {
   "cell_type": "markdown",
   "id": "a6dbe02d-c761-4c17-94b9-8d4263713de4",
   "metadata": {},
   "source": [
    "## Method 2 write 1-D vector operation"
   ]
  },
  {
   "cell_type": "code",
   "execution_count": null,
   "id": "d4b764c4-2d44-49b3-8b2b-2e496d2d9942",
   "metadata": {},
   "outputs": [],
   "source": [
    "def forward(self,add,model,data):\n",
    "    self.check_same(model,data)\n",
    "    if not add: \n",
    "        data.zero()\n",
    "    m=model.get_nd_array()\n",
    "    d=data.get_nd_array()\n",
    "\n",
    "    for j in range(m.shape[1]-1):\n",
    "        d[:,j+1]+=m[:,j+1]-m[:,j]"
   ]
  },
  {
   "cell_type": "markdown",
   "id": "ddeb6cfa-7a8e-4af1-bf53-11f5d4a5c955",
   "metadata": {},
   "source": [
    "## Method 3 write complete numpy vector operation"
   ]
  },
  {
   "cell_type": "code",
   "execution_count": null,
   "id": "3b73ffe4-a0d7-4ad9-a64a-327f14781e6e",
   "metadata": {},
   "outputs": [],
   "source": [
    "def forward(self,add,model,data):\n",
    "    self.check_same(model,data)\n",
    "    if not add: \n",
    "        data.zero()\n",
    "    m=model.get_nd_array()\n",
    "    d=data.get_nd_array()\n",
    "\n",
    "    d[:,1:]+=m[:,1:]-m[:,:-1]\n"
   ]
  },
  {
   "cell_type": "markdown",
   "id": "07286064-b69a-43fd-ae6b-a67feb13a9da",
   "metadata": {},
   "source": [
    "## Methods 4 write in terms of numpy"
   ]
  },
  {
   "cell_type": "code",
   "execution_count": null,
   "id": "f792eff1-0b92-49a4-aa1c-964fbc1fa2c1",
   "metadata": {},
   "outputs": [],
   "source": [
    "\n",
    "@numba.njit(parallel=True)\n",
    "def forward_deriv(mod,dat):\n",
    "    for i in numba.prange(m.shape[0]):\n",
    "        for j in range(m.shape[1]-1):\n",
    "            d[i,j+1]+=m[i,j+1]-m[i,j]\n"
   ]
  },
  {
   "cell_type": "code",
   "execution_count": null,
   "id": "3c0006d8-1f9c-434a-b041-9e9bc88e6517",
   "metadata": {},
   "outputs": [],
   "source": [
    "import sep_plot"
   ]
  },
  {
   "cell_type": "code",
   "execution_count": null,
   "id": "d5924a9a-0497-4860-b7ad-72a07db28a31",
   "metadata": {},
   "outputs": [],
   "source": [
    "sep_plot.Grey(vec)"
   ]
  },
  {
   "cell_type": "code",
   "execution_count": null,
   "id": "ec303fe7-ba85-49ea-b705-3ae57f60317a",
   "metadata": {},
   "outputs": [],
   "source": [
    "sep_plot.Grey(vec)"
   ]
  },
  {
   "cell_type": "code",
   "execution_count": null,
   "id": "a3b74e72-238d-49af-a0ea-1a79c196f805",
   "metadata": {},
   "outputs": [],
   "source": []
  }
 ],
 "metadata": {
  "kernelspec": {
   "display_name": "Python 3 (ipykernel)",
   "language": "python",
   "name": "python3"
  },
  "language_info": {
   "codemirror_mode": {
    "name": "ipython",
    "version": 3
   },
   "file_extension": ".py",
   "mimetype": "text/x-python",
   "name": "python",
   "nbconvert_exporter": "python",
   "pygments_lexer": "ipython3",
   "version": "3.9.9"
  }
 },
 "nbformat": 4,
 "nbformat_minor": 5
}
