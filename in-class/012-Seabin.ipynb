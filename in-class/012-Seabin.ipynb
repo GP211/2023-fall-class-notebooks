{
 "cells": [
  {
   "cell_type": "markdown",
   "id": "3bae9747-f8e5-4f9f-8b65-09727c273b63",
   "metadata": {
    "tags": []
   },
   "source": [
    "[![Open In Colab](https://colab.research.google.com/assets/colab-badge.svg)](https://colab.research.google.com/github/GP211/2023-fall-class-notebooks/blob/main/in-class/012-Seabin.ipynb)"
   ]
  },
  {
   "cell_type": "code",
   "execution_count": null,
   "id": "82c5746d-7195-401a-813d-19da1ee0124c",
   "metadata": {},
   "outputs": [],
   "source": [
    "%load_ext autoreload\n",
    "%autoreload 2\n",
    "import sys\n",
    "\n",
    "! python3 -m pip install  \"sep_plot @ git+https://github.com/SEP-software/sep-plot.git@6331a1e36d8e3cdb4cfbc3539f31bdad1eb465a7\" \n"
   ]
  },
  {
   "cell_type": "markdown",
   "id": "decimal-tourist",
   "metadata": {},
   "source": [
    "O(m)=||d-Fm||+e^2||Am|\n",
    "\n",
    "O(p) || F P p||\n",
    "\n"
   ]
  },
  {
   "cell_type": "code",
   "execution_count": null,
   "id": "pointed-microwave",
   "metadata": {
    "tags": []
   },
   "outputs": [],
   "source": []
  },
  {
   "cell_type": "code",
   "execution_count": null,
   "id": "713fbe19-918e-43d2-ba92-a83ef3b21429",
   "metadata": {
    "tags": []
   },
   "outputs": [],
   "source": [
    "from sep_python import default_io, Hypercube, FloatVector\n",
    "import numpy as np\n",
    "\n",
    "vec=default_io.vector_from_storage(\"../data/seabin.HH\")\n"
   ]
  },
  {
   "cell_type": "code",
   "execution_count": null,
   "id": "0926c68a-f949-4c65-8b98-f0ea12d747bc",
   "metadata": {},
   "outputs": [],
   "source": [
    "from giee import BoxFilter, ConvOpAdjFilter, convOpAdjData"
   ]
  },
  {
   "cell_type": "code",
   "execution_count": null,
   "id": "cc4c399f-683f-4b93-8c91-df9c4c63ea90",
   "metadata": {},
   "outputs": [],
   "source": []
  },
  {
   "cell_type": "code",
   "execution_count": null,
   "id": "176fb107-2a51-4e66-bcab-70b1a51339a6",
   "metadata": {
    "tags": []
   },
   "outputs": [],
   "source": [
    "import numba\n",
    "from generic_solver._pyOperator import Operator"
   ]
  },
  {
   "cell_type": "code",
   "execution_count": null,
   "id": "6ef90014-8b05-4d41-a824-0ae13528b21e",
   "metadata": {
    "tags": []
   },
   "outputs": [],
   "source": [
    "from sep_plot import Grey\n",
    "\n",
    "known=vec.clone()\n",
    "unknown=vec.clone()\n",
    "@numba.njit()\n",
    "def known_data(vec,known,unknown):\n",
    "    for i2 in range(vec.shape[0]):\n",
    "        for i1 in range(vec.shape[1]):\n",
    "            if vec[i2,i1]==0:\n",
    "                known[i2,i1]=0\n",
    "                unknown[i2,i1]=1\n",
    "            else:\n",
    "                known[i2,i1]=1\n",
    "                unknown[i2,i1]=0\n",
    "known_data(vec.get_nd_array(),\n",
    "           known.get_nd_array(),unknown.get_nd_array())\n",
    "Grey(known)"
   ]
  },
  {
   "cell_type": "code",
   "execution_count": null,
   "id": "5c2d4296-e1b1-420c-a1ac-e83506807aeb",
   "metadata": {
    "scrolled": true,
    "tags": []
   },
   "outputs": [],
   "source": [
    "from generic_solver  import ProblemL2Linear,ProblemL2LinearReg, LCGsolver, BasicStopper \n",
    "from generic_solver._pyOperator import DiagonalOp\n",
    "from giee import Lap2D\n",
    "j_op=DiagonalOp(unknown)\n",
    "problemStop=BasicStopper(niter=1000)\n",
    "data=vec.clone()\n",
    "model=data.clone()\n",
    "reg=Lap2D(model,data)\n",
    "eps=100\n",
    "\n",
    "problemLap1=ProblemL2LinearReg(model,data,j_op,eps,reg_op=reg)\n",
    "solve_base=LCGsolver(problemStop)\n",
    "#solve_base.setDefaults(save_model=True)\n",
    "solve_base.run(problemLap1)\n",
    "\n",
    "Grey(problemLap1.model)\n",
    "\n"
   ]
  },
  {
   "cell_type": "code",
   "execution_count": null,
   "id": "a800c7e0-a2af-4171-9926-f8b365bda5b0",
   "metadata": {
    "scrolled": true,
    "tags": []
   },
   "outputs": [],
   "source": [
    "from sep_python import get_sep_vector\n",
    "from numba import njit\n",
    "@njit()\n",
    "def covFunc(model,nm1,nm2,cov):\n",
    "    for i2 in range(model.shape[0]):\n",
    "        for i1 in range(model.shape[1]):\n",
    "            for im2 in range(-nm2,nm2):\n",
    "                if i2+im2 >=0 and i2+im2 < model.shape[0]:\n",
    "                    for im1 in range(-nm1,nm1):\n",
    "                        if i1+im1 >=0 and i1+im1 < model.shape[1]:\n",
    "                            cov[im2+nm2,im1+nm1]+=(model[i2,i1]*model[i2+im2,i1+im1])\n",
    "cov=get_sep_vector(ns=[81,81],os=[-40,-40],ds=[1,1])\n",
    "hyper=Hypercube.set_with_ns([81,81],os=[-40,-40],ds=[1,1])\n",
    "covFunc(vec.getNdArray(),40,40,cov.get_nd_array())\n",
    "Grey(cov,pclip=100)"
   ]
  },
  {
   "cell_type": "code",
   "execution_count": null,
   "id": "fifty-moral",
   "metadata": {},
   "outputs": [],
   "source": []
  },
  {
   "cell_type": "code",
   "execution_count": null,
   "id": "a2565204-c72d-43d1-9f15-f9c839d44096",
   "metadata": {
    "tags": []
   },
   "outputs": [],
   "source": [
    "from generic_solver._pyOperator import DiagonalOp, ChainOperator\n",
    "from sep_python import Hypercube\n",
    "\n",
    "def findPef(data,known,sh,zero):\n",
    "    filt=BoxFilter.PEF(sh,zero)\n",
    "    op=ConvOpAdjFilter(filt,data,data)\n",
    "    wt=filt.create_mask(known)\n",
    "    wtOp=DiagonalOp(wt)\n",
    "    # \n",
    "    #  W(d-Lm) = Wd -WLm\n",
    "    #\n",
    "    duse=data.clone()\n",
    "    data.scale(-1.)\n",
    "    wtOp.forward(False,data,duse)\n",
    "    wt_pef=ChainOperator(op,wtOp)\n",
    "\n",
    "    prob=ProblemL2Linear(filt,data,wt_pef)\n",
    "    #-d = D f  \n",
    "    stop=BasicStopper(niter=1000)\n",
    "    solve=LCGsolver(stop)\n",
    "    solve.run(prob)\n",
    "    return prob.model,prob.res,wt\n"
   ]
  },
  {
   "cell_type": "code",
   "execution_count": null,
   "id": "aa0c87aa-d243-440f-90d3-fa16cb964f30",
   "metadata": {
    "scrolled": true
   },
   "outputs": [],
   "source": [
    "pef,res,wt=findPef(vec,known,(4,7),(0,3))\n",
    "Grey(res)+Grey(vec)\n"
   ]
  },
  {
   "cell_type": "code",
   "execution_count": null,
   "id": "d70eab2c-5400-4fed-8363-2aa5823242a8",
   "metadata": {},
   "outputs": [],
   "source": []
  },
  {
   "cell_type": "code",
   "execution_count": null,
   "id": "a06a40bb-6d2d-45eb-abf6-83dc499ea4af",
   "metadata": {},
   "outputs": [],
   "source": [
    "j_op=DiagonalOp(unknown)\n",
    "problemStop=BasicStopper(niter=1000)\n",
    "data=vec.clone()\n",
    "model=data.clone()\n",
    "reg=convOpAdjData(model,data,pef)\n",
    "eps=50\n",
    "\n",
    "problemLap1=ProblemL2LinearReg(model,data,j_op,eps,reg_op=reg)\n",
    "solve_base=LCGsolver(problemStop)\n",
    "solve_base.run(problemLap1)\n",
    "\n",
    "Grey(problemLap1.model,pclip=99)+Grey(vec)"
   ]
  },
  {
   "cell_type": "code",
   "execution_count": null,
   "id": "a0e0c9fc-46b0-4966-aa95-0f5399fcfeff",
   "metadata": {},
   "outputs": [],
   "source": [
    "res_reg=problemLap1.res.vecs[1]\n",
    "res_reg.multiply(wt)\n",
    "tot=np.sum(np.abs(res_reg.get_nd_array()))\n",
    "nzero=np.sum(wt.get_nd_array())\n",
    "avg=tot/nzero/eps\n",
    "rnd=res_reg.clone()\n",
    "rnd.rand()\n",
    "rnd.scale(avg*1.8)"
   ]
  },
  {
   "cell_type": "code",
   "execution_count": null,
   "id": "3bf43e55-cf2c-47c6-bfc1-4ac99c359679",
   "metadata": {},
   "outputs": [],
   "source": [
    "j_op=DiagonalOp(unknown)\n",
    "problemStop=BasicStopper(niter=1000)\n",
    "data=vec.clone()\n",
    "model=data.clone()\n",
    "reg=convOpAdjData(model,data,pef)\n",
    "eps=50\n",
    "\n",
    "problemLap1=ProblemL2LinearReg(model,data,j_op,eps,reg_op=reg,prior_model=rnd)\n",
    "solve_base=LCGsolver(problemStop)\n",
    "solve_base.run(problemLap1)\n",
    "\n",
    "Grey(problemLap1.model,pclip=99)+Grey(vec)"
   ]
  },
  {
   "cell_type": "code",
   "execution_count": null,
   "id": "3a7419a6-dee4-48f8-9a77-5f1209198592",
   "metadata": {},
   "outputs": [],
   "source": [
    "rnd.rand()\n",
    "rnd.scale(avg*2.5)\n",
    "problemLap1=ProblemL2LinearReg(model,data,j_op,eps,reg_op=reg,prior_model=rnd)\n",
    "solve_base=LCGsolver(problemStop)\n",
    "solve_base.run(problemLap1)\n",
    "\n",
    "Grey(problemLap1.model,pclip=99)+Grey(vec)"
   ]
  },
  {
   "cell_type": "code",
   "execution_count": null,
   "id": "9a5d8ff2-e143-4cac-acc2-18be0da8cf2f",
   "metadata": {},
   "outputs": [],
   "source": []
  }
 ],
 "metadata": {
  "kernelspec": {
   "display_name": "Python 3 (ipykernel)",
   "language": "python",
   "name": "python3"
  },
  "language_info": {
   "codemirror_mode": {
    "name": "ipython",
    "version": 3
   },
   "file_extension": ".py",
   "mimetype": "text/x-python",
   "name": "python",
   "nbconvert_exporter": "python",
   "pygments_lexer": "ipython3",
   "version": "3.9.9"
  }
 },
 "nbformat": 4,
 "nbformat_minor": 5
}
