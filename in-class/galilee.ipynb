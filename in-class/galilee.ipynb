{
 "cells": [
  {
   "cell_type": "code",
   "execution_count": 1,
   "id": "ba45484e-0768-4f3f-af0a-f3b8d1aa58e1",
   "metadata": {},
   "outputs": [],
   "source": [
    "%load_ext autoreload\n",
    "%autoreload 2\n",
    "import sys\n",
    "sys.path.append(\"/Users/clapp/Src/sep-python\")\n",
    "sys.path.append(\"/Users/clapp/Src/sep-plot\")"
   ]
  },
  {
   "cell_type": "code",
   "execution_count": 2,
   "id": "74ad47ba-b8da-4234-bcbf-98626387191f",
   "metadata": {},
   "outputs": [],
   "source": [
    "from sep_python import default_io\n",
    "vec=default_io.vector_from_storage(\"../Data/galilee.H\")"
   ]
  },
  {
   "cell_type": "code",
   "execution_count": 3,
   "id": "2ac8727c-c48a-4f7e-b2fd-c00528d1bd3a",
   "metadata": {},
   "outputs": [
    {
     "name": "stdout",
     "output_type": "stream",
     "text": [
      "FloatVector\n",
      "Axis 1: n=3\to=0.0\td=1.0\n",
      "Axis 2: n=132044\to=0.0\td=1.0\n",
      "\n"
     ]
    }
   ],
   "source": [
    "print(vec)"
   ]
  },
  {
   "cell_type": "code",
   "execution_count": null,
   "id": "5759f55b-c5ee-47b4-9da1-f7194c1c6643",
   "metadata": {},
   "outputs": [],
   "source": []
  }
 ],
 "metadata": {
  "kernelspec": {
   "display_name": "Python 3 (ipykernel)",
   "language": "python",
   "name": "python3"
  },
  "language_info": {
   "codemirror_mode": {
    "name": "ipython",
    "version": 3
   },
   "file_extension": ".py",
   "mimetype": "text/x-python",
   "name": "python",
   "nbconvert_exporter": "python",
   "pygments_lexer": "ipython3",
   "version": "3.9.9"
  }
 },
 "nbformat": 4,
 "nbformat_minor": 5
}
