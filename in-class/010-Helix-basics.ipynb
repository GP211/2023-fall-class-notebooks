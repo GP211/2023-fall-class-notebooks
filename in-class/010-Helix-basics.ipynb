{
 "cells": [
  {
   "cell_type": "markdown",
   "metadata": {},
   "source": [
    "<a href=\"https://colab.research.google.com/github/rgclapp007/gp211-class-notebooks/blob/main/helix/Helix-basics.ipynb\" target=\"_parent\"><img src=\"https://colab.research.google.com/assets/colab-badge.svg\" alt=\"Open In Colab\"/></a>"
   ]
  },
  {
   "cell_type": "code",
   "execution_count": 1,
   "metadata": {
    "tags": []
   },
   "outputs": [],
   "source": [
    "%load_ext autoreload\n",
    "%autoreload 2\n",
    "import sys\n",
    "\n",
    "python3 -m pip install \"giee @ git+https://github.com/GP211/2023-fall-class-notebooks.git@d00084220a6501d5fe744869f82e64b3dab9c03b\" "
   ]
  },
  {
   "cell_type": "code",
   "execution_count": 2,
   "metadata": {},
   "outputs": [
    {
     "name": "stderr",
     "output_type": "stream",
     "text": [
      "WARNING! DATAPATH not found. The folder /tmp will be used to write binary files\n"
     ]
    }
   ],
   "source": [
    "from giee import HelixFilter, Helicon, Polydiv\n",
    "from sep_python import get_sep_vector\n",
    "\n",
    "model=get_sep_vector(ns=[100,100])"
   ]
  },
  {
   "cell_type": "code",
   "execution_count": 3,
   "metadata": {
    "tags": []
   },
   "outputs": [],
   "source": [
    "filt=HelixFilter(model.get_hyper().get_ns(),nelem=2)\n",
    "filt.lags[:]=[100,101]\n",
    "filt.get_nd_array()[:]=[-.4999,-.4999]"
   ]
  },
  {
   "cell_type": "code",
   "execution_count": 4,
   "metadata": {
    "scrolled": true,
    "tags": []
   },
   "outputs": [
    {
     "ename": "NameError",
     "evalue": "name 'helixFilter' is not defined",
     "output_type": "error",
     "traceback": [
      "\u001b[0;31m---------------------------------------------------------------------------\u001b[0m",
      "\u001b[0;31mNameError\u001b[0m                                 Traceback (most recent call last)",
      "Cell \u001b[0;32mIn[4], line 1\u001b[0m\n\u001b[0;32m----> 1\u001b[0m hel\u001b[38;5;241m=\u001b[39m\u001b[43mHelicon\u001b[49m\u001b[43m(\u001b[49m\u001b[43mmodel\u001b[49m\u001b[43m,\u001b[49m\u001b[43mmodel\u001b[49m\u001b[43m,\u001b[49m\u001b[43mfilt\u001b[49m\u001b[43m)\u001b[49m\n\u001b[1;32m      2\u001b[0m pol\u001b[38;5;241m=\u001b[39mPolydiv(model,model,filt)\n\u001b[1;32m      4\u001b[0m data\u001b[38;5;241m=\u001b[39mmodel\u001b[38;5;241m.\u001b[39mclone()\n",
      "File \u001b[0;32m~/class-venv/lib/python3.9/site-packages/giee/_helix.py:151\u001b[0m, in \u001b[0;36mHelicon.__init__\u001b[0;34m(self, model, data, filt)\u001b[0m\n\u001b[1;32m    148\u001b[0m     \u001b[38;5;28mprint\u001b[39m(h,h2)\n\u001b[1;32m    149\u001b[0m     \u001b[38;5;28;01mraise\u001b[39;00m \u001b[38;5;167;01mException\u001b[39;00m(\u001b[38;5;124m\"\u001b[39m\u001b[38;5;124mModel and data must be same space\u001b[39m\u001b[38;5;124m\"\u001b[39m) \n\u001b[0;32m--> 151\u001b[0m \u001b[38;5;28;01mif\u001b[39;00m \u001b[38;5;129;01mnot\u001b[39;00m \u001b[38;5;28misinstance\u001b[39m(filt,\u001b[43mhelixFilter\u001b[49m):\n\u001b[1;32m    152\u001b[0m     \u001b[38;5;28;01mraise\u001b[39;00m \u001b[38;5;167;01mException\u001b[39;00m(\u001b[38;5;124m\"\u001b[39m\u001b[38;5;124mExpecting filt to be a helix filter\u001b[39m\u001b[38;5;124m\"\u001b[39m)\n\u001b[1;32m    154\u001b[0m ns\u001b[38;5;241m=\u001b[39mh\u001b[38;5;241m.\u001b[39mget_ns()\n",
      "\u001b[0;31mNameError\u001b[0m: name 'helixFilter' is not defined"
     ]
    }
   ],
   "source": [
    "hel=Helicon(model,model,filt)\n",
    "pol=Polydiv(model,model,filt)\n",
    "\n",
    "data=model.clone()\n",
    "data2=data.clone()\n",
    "data2.zero()\n",
    "data3=data.clone()\n",
    "data4=data.clone()\n",
    "\n",
    "pol.forward(False,model,data)\n",
    "pol.adjoint(False,data2,data)\n",
    "\n",
    "hel.forward(False,data2,data3)\n",
    "hel.adjoint(False,data4,data3)\n"
   ]
  },
  {
   "cell_type": "code",
   "execution_count": null,
   "metadata": {
    "tags": []
   },
   "outputs": [],
   "source": [
    "import holoviews as hv\n",
    "hv.extension('bokeh','matplotlib')\n",
    "Grey(model,pclip=100)+Grey(data4,pclip=100)"
   ]
  },
  {
   "cell_type": "code",
   "execution_count": null,
   "metadata": {
    "tags": []
   },
   "outputs": [],
   "source": [
    "model2=model.clone()\n",
    "model3=model.clone()\n",
    "hel.forward(False,data2,model2)\n",
    "hel.adjoint(False,model3,model2)\n",
    "m2=data.get_nd_array()\n",
    "m=model.get_nd_array()\n",
    "print(m.max(),m.min())\n",
    "print(m2.max(),m2.min())\n",
    "print(data.get_nd_array()[29:32,29:32])"
   ]
  },
  {
   "cell_type": "code",
   "execution_count": null,
   "metadata": {
    "tags": []
   },
   "outputs": [],
   "source": [
    "import holoviews as hv\n",
    "hv.extension('bokeh','matplotlib')\n",
    "Grey(data2,pclip=100)+Grey(model2,pclip=100)+Grey(model3,pclip=100)"
   ]
  },
  {
   "cell_type": "code",
   "execution_count": null,
   "metadata": {
    "tags": []
   },
   "outputs": [],
   "source": [
    "print(model3.get_nd_array()[29:31,29:31])"
   ]
  },
  {
   "cell_type": "code",
   "execution_count": null,
   "metadata": {},
   "outputs": [],
   "source": []
  }
 ],
 "metadata": {
  "kernelspec": {
   "display_name": "Python 3 (ipykernel)",
   "language": "python",
   "name": "python3"
  },
  "language_info": {
   "codemirror_mode": {
    "name": "ipython",
    "version": 3
   },
   "file_extension": ".py",
   "mimetype": "text/x-python",
   "name": "python",
   "nbconvert_exporter": "python",
   "pygments_lexer": "ipython3",
   "version": "3.9.9"
  }
 },
 "nbformat": 4,
 "nbformat_minor": 4
}
