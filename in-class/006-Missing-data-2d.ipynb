{
 "cells": [
  {
   "cell_type": "markdown",
   "id": "7e6ed137-3e23-4319-bd2a-2f87821a2713",
   "metadata": {},
   "source": [
    "# Missing data problem\n",
    "\n",
    "We will begin by installing the library and downloading the data"
   ]
  },
  {
   "cell_type": "markdown",
   "id": "618ea6a1-e9bd-4b3c-a0f2-87883d9cbc01",
   "metadata": {},
   "source": [
    "[![Open In Colab](https://colab.research.google.com/assets/colab-badge.svg)](https://colab.research.google.com/github/GP211/2023-fall-class-notebooks/blob/main/in-class/Missing-data-2d.ipynb)"
   ]
  },
  {
   "cell_type": "code",
   "execution_count": null,
   "id": "5026dfd7-fdee-4bb4-85dc-6aff4841e07c",
   "metadata": {},
   "outputs": [],
   "source": [
    "%load_ext autoreload\n",
    "%autoreload 2\n",
    "import sys\n",
    "\n",
    "! python3 -m pip install  \"sep_plot @ git+https://github.com/SEP-software/sep-plot.git@6331a1e36d8e3cdb4cfbc3539f31bdad1eb465a7\" \n"
   ]
  },
  {
   "cell_type": "code",
   "execution_count": null,
   "id": "66525058-55d1-4413-87b2-5c8176ab38b2",
   "metadata": {},
   "outputs": [],
   "source": [
    "! wget https://github.com/GP211/2023-fall-class-notebooks/raw/main/data/s2000.5\n"
   ]
  },
  {
   "cell_type": "markdown",
   "id": "4c496865-0972-40ef-8c69-d647b91ab8f2",
   "metadata": {},
   "source": [
    "## Read in the file\n",
    "\n",
    "First we will look at the file and read it in two different ways, one using just python, one using pandas."
   ]
  },
  {
   "cell_type": "code",
   "execution_count": null,
   "id": "ab94c201-2f89-4e09-9179-686fc3fcc652",
   "metadata": {},
   "outputs": [],
   "source": [
    "! cat s2000.5"
   ]
  },
  {
   "cell_type": "code",
   "execution_count": null,
   "id": "8aff67a6-a4a9-4242-89ae-b900065d2df7",
   "metadata": {},
   "outputs": [],
   "source": [
    "import numpy as np\n",
    "fl=open(\"s2000.5\")\n",
    "lines=fl.readlines()\n",
    "x=[]\n",
    "y=[]\n",
    "z=[]\n",
    "for ln in lines:\n",
    "    vars=ln.split()\n",
    "    x.append(float(vars[2]))\n",
    "    y.append(float(vars[3]))\n",
    "    z.append(float(vars[4]))\n",
    "xar=np.array(x)\n",
    "yar=np.array(y)\n",
    "zar=np.array(z)"
   ]
  },
  {
   "cell_type": "code",
   "execution_count": null,
   "id": "62da5e7f-a7a4-4f01-843b-c98ea4f9f0ab",
   "metadata": {},
   "outputs": [],
   "source": [
    "import pandas as pd\n",
    "\n",
    "# Read the file into a DataFrame\n",
    "df = pd.read_csv(\"s2000.5\", delim_whitespace=True, header=None, usecols=[2, 3, 4], names=[\"x\", \"y\", \"z\"])\n",
    "\n",
    "# Convert columns to numpy arrays\n",
    "xar = df[\"x\"].values\n",
    "yar = df[\"y\"].values\n",
    "zar = df[\"z\"].values\n"
   ]
  },
  {
   "cell_type": "markdown",
   "id": "3b1dfb20-899b-4065-b60c-029da71da383",
   "metadata": {},
   "source": [
    "## Create the model space"
   ]
  },
  {
   "cell_type": "code",
   "execution_count": null,
   "id": "637810c4-6c64-41df-8533-776b1c8d2e4c",
   "metadata": {},
   "outputs": [],
   "source": [
    "from sep_python import Hypercube\n",
    "o1,d1,n1=5200,600,40\n",
    "o2,d2,n2=-22000,800,40\n",
    "reg_model=Hypercube.set_with_ns(ns=[n1,n2],os=[o1,o2],ds=[d1,d2],labels=[\"x\",\"y\"])"
   ]
  },
  {
   "cell_type": "markdown",
   "id": "7fce469d-b2bd-43b7-8e0c-9962ff68e315",
   "metadata": {},
   "source": [
    "# Map the data to a regular grid\n",
    "\n",
    "We are going to use the bin-2d operator we used earlier"
   ]
  },
  {
   "cell_type": "code",
   "execution_count": null,
   "id": "08320d39-2dd9-453f-9565-39808a0d29a3",
   "metadata": {},
   "outputs": [],
   "source": [
    "import copy\n",
    "from generic_solver._pyOperator import Operator\n",
    "class Bin2D(Operator):\n",
    "\n",
    "    def __init__(self, mod, dat, xy):\n",
    "        \"\"\"\n",
    "        Initialize the binning operator.\n",
    "        \"\"\"\n",
    "        super().__init__(mod, dat)\n",
    "        hyper = mod.get_hyper()\n",
    "        \n",
    "        ax0 = hyper.axes[0]\n",
    "        n1, o1, d1 = ax0.n, ax0.o, ax0.d\n",
    "        \n",
    "        ax1 = hyper.axes[1]\n",
    "        n2, o2, d2 = ax1.n, ax1.o, ax1.d\n",
    "        \n",
    "        num_points = xy.shape[1]\n",
    "        self._i1 = np.zeros(num_points, dtype=np.int32)\n",
    "        self._i2 = np.zeros(num_points, dtype=np.int32)\n",
    "        self._sc = np.ones(num_points)\n",
    "        \n",
    "        for x_val, y_val, index, in zip(xy[0], xy[1],range(num_points)):\n",
    "            self._i1[index] = (x_val - o1) / d1 + 0.5\n",
    "            self._i2[index] = (y_val - o2) / d2 + 0.5\n",
    "            \n",
    "            # Check for out-of-bounds indices\n",
    "            if self._i1[index] < 0 or self._i2[index] < 0 or self._i1[index] >= n1 or self._i2[index] >= n2:\n",
    "                self._i1[index] = 0\n",
    "                self._i2[index] = 0\n",
    "                self._sc[index] = 0\n",
    "\n",
    "    def forward(self, add, mod, dat):\n",
    "        \"\"\"\n",
    "        Forward operation.\n",
    "        \"\"\"\n",
    "        self.checkDomainRange(mod, dat)\n",
    "        if not add:\n",
    "            dat.zero()\n",
    "        for d_val, i1_val, i2_val, sc_val in zip(dat, self._i1, self._i2, self._sc):\n",
    "            d_val += sc_val * mod[i2_val, i1_val]\n",
    "\n",
    "    def adjoint(self, add, mod, dat):\n",
    "        \"\"\"\n",
    "        Adjoint operation.\n",
    "        \"\"\"\n",
    "        self.checkDomainRange(mod, dat)\n",
    "        if not add:\n",
    "            mod.zero()\n",
    "\n",
    "        for i1_val, i2_val, sc_val, d_val in zip( self._i1, self._i2, self._sc, dat):\n",
    "            mod[i2_val, i1_val] += sc_val * d_val\n"
   ]
  },
  {
   "cell_type": "code",
   "execution_count": null,
   "id": "b5e225f8-a447-4e3f-b208-7a3b5dbc7d4e",
   "metadata": {},
   "outputs": [],
   "source": [
    "from sep_python import get_sep_vector\n",
    "from sep_plot import Grey\n",
    "import holoviews as hv\n",
    "hv.extension('bokeh','matplotlib')\n",
    "xy = np.stack((xar, yar))\n",
    "avg=np.sum(zar)/zar.shape[0]\n",
    "zar[:]=zar[:]-avg\n",
    "zvec=get_sep_vector(zar)\n",
    "\n",
    "data=get_sep_vector(reg_model)\n",
    "binOp=Bin2D(data,zvec,xy)\n",
    "ones=zvec.clone()\n",
    "ones[:]=1\n",
    "binOp.adjoint(False,data,zvec)\n",
    "sc=data.clone()\n",
    "binOp.adjoint(False,sc,ones)\n",
    "for i2 in range(sc.shape[0]):\n",
    "    for i1 in range(sc.shape[1]):\n",
    "        if sc[i2,i1]!=0:\n",
    "            data[i2,i1]/=sc[i2,i1]\n",
    "\n",
    "#Grey(data)\n",
    "d=data.get_nd_array()\n",
    "print(zar.min(),zar.max(),d.min(),d.max())"
   ]
  },
  {
   "cell_type": "markdown",
   "id": "95679686-edc8-472f-ae36-0ac77bf97746",
   "metadata": {},
   "source": [
    "## Our data fitting operator\n",
    "\n",
    "Our data fitting operator will have 1s where we have known data 0 everywhere else"
   ]
  },
  {
   "cell_type": "code",
   "execution_count": null,
   "id": "956ffd46-6848-4bd8-b8f7-12305431bbb7",
   "metadata": {},
   "outputs": [],
   "source": [
    "import copy\n",
    "from generic_solver._pyOperator import Operator\n",
    "class Jop(Operator):\n",
    "\n",
    "    def __init__(self, mod, dat, not_data=0):\n",
    "        \"\"\"\n",
    "        Initialize our selector operator\n",
    "        \"\"\"\n",
    "        super().__init__(mod, dat)\n",
    "\n",
    "        self._jop=dat.clone()\n",
    "\n",
    "        hyper=model.get_hyper()\n",
    "        \n",
    "        ax0 = hyper.axes[0]\n",
    "        n1, o1, d1 = ax0.n, ax0.o, ax0.d\n",
    "        \n",
    "        ax1 = hyper.axes[1]\n",
    "        n2, o2, d2 = ax1.n, ax1.o, ax1.d\n",
    "\n",
    "        for i2 in range(n2):\n",
    "            for i1 in range(n1):\n",
    "                if self._jop[i2,i1] == not_data:\n",
    "                    self._jop[i2,i1]=0\n",
    "                else:\n",
    "                    self._jop[i2,i1]=1\n",
    "\n",
    "\n",
    "    def forward(self, add, mod, dat):\n",
    "        \"\"\"\n",
    "        Forward operation.\n",
    "        \"\"\"\n",
    "        self.checkDomainRange(mod, dat)\n",
    "        if not add:\n",
    "            dat.zero()\n",
    "        dat[:,:]=dat[:,:]+mod[:,:]*self._jop[:,:]\n",
    "\n",
    "\n",
    "    def adjoint(self, add, mod, dat):\n",
    "        \"\"\"\n",
    "        Adjoint operation.\n",
    "        \"\"\"\n",
    "        self.checkDomainRange(mod, dat)\n",
    "        if not add:\n",
    "            mod.zero()\n",
    "        mod[:,:]=mod[:,:]+dat[:,:]*self._jop[:,:]\n",
    "\n"
   ]
  },
  {
   "cell_type": "markdown",
   "id": "5f8f42de-49a8-403c-b3c0-eb0d87e1d64c",
   "metadata": {},
   "source": [
    "## Regularization operator\n",
    "\n",
    "Here is a simple laplacian operator"
   ]
  },
  {
   "cell_type": "code",
   "execution_count": null,
   "id": "06452079-1a49-4346-ae72-336d7d8cf73f",
   "metadata": {},
   "outputs": [],
   "source": [
    "import copy\n",
    "from generic_solver._pyOperator import Operator\n",
    "from numba import njit\n",
    "class Lap(Operator):\n",
    "\n",
    "    def __init__(self, mod, dat):\n",
    "        \"\"\"\n",
    "        Laplacian operator\n",
    "        \"\"\"\n",
    "        super().__init__(mod, dat)\n",
    "\n",
    "        self._jop=dat.clone()\n",
    "        \n",
    "        \n",
    "\n",
    "    def forward(self, add, mod, dat):\n",
    "        \"\"\"\n",
    "        Forward operation.\n",
    "        \"\"\"\n",
    "        self.checkDomainRange(mod, dat)\n",
    "        if not add:\n",
    "            dat.zero()\n",
    "        lap_forward(mod.get_nd_array(),dat.get_nd_array())\n",
    "\n",
    "\n",
    "    def adjoint(self, add, mod, dat):\n",
    "        \"\"\"\n",
    "        Adjoint operation.\n",
    "        \"\"\"\n",
    "        self.checkDomainRange(mod, dat)\n",
    "        if not add:\n",
    "            mod.zero()\n",
    "        lap_adjoint(mod.get_nd_array(),dat.get_nd_array())\n",
    "\n",
    "@njit\n",
    "def lap_forward(mod,dat):\n",
    "    for i2 in range(1,dat.shape[0]-1):\n",
    "        for i1 in range(1,dat.shape[1]-1):\n",
    "            dat[i2,i1]+=mod[i2,i1]*4-mod[i2-1,i1]-mod[i2+1,i1]-mod[i2,i1-1]-mod[i2,i1+1]\n",
    "        \n",
    "        \n",
    "@njit\n",
    "def lap_adjoint(mod,dat):\n",
    "    for i2 in range(1,dat.shape[0]-1):\n",
    "        for i1 in range(1,dat.shape[1]-1):\n",
    "            mod[i2,i1]+=dat[i2,i1]*4\n",
    "            mod[i2,i1-1]-=dat[i2,i1]\n",
    "            mod[i2,i1+1]-=dat[i2,i1]\n",
    "            mod[i2+1,i1]-=dat[i2,i1]\n",
    "            mod[i2-1,i1]-=dat[i2,i1]\n",
    "\n",
    "     \n"
   ]
  },
  {
   "cell_type": "markdown",
   "id": "19a9bd27-25a0-43e4-8cb0-eb8cdc082668",
   "metadata": {},
   "source": [
    "## Setup our inversion problem"
   ]
  },
  {
   "cell_type": "code",
   "execution_count": null,
   "id": "00446bbb-a5e5-4258-9128-cb57aa581af2",
   "metadata": {},
   "outputs": [],
   "source": [
    "from generic_solver import ProblemL2LinearReg, BasicStopper\n",
    "#from generic_solver._pyLinearSolver import LCGsolver\n",
    "from generic_solver import LCGsolver\n",
    "\n",
    "model=data.clone()\n",
    "jop=Jop(model,data)\n",
    "lap=Lap(model,data)\n",
    "eps=.001\n",
    "prob=ProblemL2LinearReg(model,data,jop,eps,reg_op=lap)\n",
    "stop=BasicStopper(niter=500)\n",
    "solve=LCGsolver(stop)\n",
    "solve.run(prob)\n",
    "\n"
   ]
  },
  {
   "cell_type": "markdown",
   "id": "569a70c7-e129-4f3c-a3cd-c0dae9380185",
   "metadata": {},
   "source": [
    "## Plot\n",
    "\n",
    "Take a look at the inverted model. It appears that we didn't accomplish much. Experiment with changing epsilon."
   ]
  },
  {
   "cell_type": "code",
   "execution_count": null,
   "id": "e883ebbc-6b57-4f6b-8599-be46210972af",
   "metadata": {
    "scrolled": true
   },
   "outputs": [],
   "source": [
    "import holoviews as hv\n",
    "hv.extension('bokeh','matplotlib')\n",
    "Grey(prob.model)+Grey(data)"
   ]
  },
  {
   "cell_type": "markdown",
   "id": "4a6bd276-2a9e-4d84-9d96-7e197e793e30",
   "metadata": {},
   "source": [
    "## Residuals \n",
    "Remember we have two residuals. The first is how well we've fit the data. Second, how much our model\n",
    "fits are convariance definition."
   ]
  },
  {
   "cell_type": "code",
   "execution_count": null,
   "id": "05224079-cb3e-4395-93c0-267c19c5b3a7",
   "metadata": {},
   "outputs": [],
   "source": [
    "Grey(prob.res.vecs[0])+Grey(prob.res.vecs[1])"
   ]
  },
  {
   "cell_type": "markdown",
   "id": "c6d4c687-58a8-49f1-bcd6-360204f8a722",
   "metadata": {},
   "source": [
    "## Improving our boundary condition\n",
    "\n",
    "As discussed in class we are far from IID.  So lets fill in edge values using an inverse distance squared."
   ]
  },
  {
   "cell_type": "code",
   "execution_count": null,
   "id": "62a9d738-435c-4aea-bd67-ae6f16d1d188",
   "metadata": {},
   "outputs": [],
   "source": [
    "import holoviews as hv\n",
    "import math\n",
    "hv.extension('bokeh','matplotlib')\n",
    "def find_val(x,y,xloc,yloc,z):\n",
    "    wt=(x-xloc)*(x-xloc)+(y-yloc)*(y-yloc)+.001\n",
    "    wt=wt*wt\n",
    "   # wt=np.sqrt(wt)\n",
    "    \n",
    "    return np.sum(1./wt*z)/np.sum(1/wt)\n",
    "\n",
    "for i2 in range(data.shape[0]):\n",
    "    data[i2,0]=find_val(o1,o2+d2*i2,xar,yar,zar)\n",
    "    data[i2,data.shape[1]-1]=find_val(o1+d1*data.shape[1]-1,o2+d2*i2,xar,yar,zar)\n",
    "for i1 in range(data.shape[1]):\n",
    "    data[0,i1]=find_val(o1+d1*i1,o2,yar,xar,zar)\n",
    "    data[data.shape[0]-1,i1]=find_val(o1+d1*i1,o2+d2*data.shape[0]-1,xar,yar,zar)\n",
    "\n",
    "Grey(data)\n"
   ]
  },
  {
   "cell_type": "code",
   "execution_count": null,
   "id": "4d9e07bc-d00e-47d8-b9cf-ed3516731ca9",
   "metadata": {},
   "outputs": [],
   "source": [
    "def correlation(xar,yar,zar,d_dist,n_dist):\n",
    "    out=np.zeros((n_dist))\n",
    "    npts=np.zeros((n_dist))\n",
    "    avg=np.zeros((n_dist))\n",
    "    zuse=zar-np.sum(zar)/len(zar)\n",
    "    for x,y,z,isamp in zip(xar,yar,zuse,range(len(xar))):\n",
    "        for x2,y2,z2 in zip(xar[isamp+1:],yar[isamp+1:],zuse[isamp+1:]):\n",
    "            dist=math.sqrt((x2-x)*(x2-x)+(y2-y)*(y2-y))\n",
    "            ipt=int(dist/d_dist+.5)\n",
    "            if ipt < n_dist:\n",
    "                npts[ipt]+=1\n",
    "                avg[ipt]+=z*z+z2*z2\n",
    "                out[ipt]+=z*z2\n",
    "    for i in range(n_dist):\n",
    "        if npts[i]>0:\n",
    "            out[i]=out[i]/avg[i]\n",
    "    return out  \n",
    "                \n",
    "zcor=correlation(x,y,z,600,50)\n",
    "zcompare=np.zeros((4,50))\n",
    "zcompare[0,:]=zcor[:]\n",
    "zcompare[1,:]=1./np.linspace(300,300+600*50,50,endpoint=False)\n",
    "zcompare[1,:]=zcompare[1,:]/zcompare[1,0]\n",
    "zcompare[0,:]=zcompare[0,:]/zcompare[0,0]\n",
    "zcompare[2,:]=(zcompare[1,:]*zcompare[1,:])\n",
    "zcompare[3,:]=(zcompare[2,:]*zcompare[2,:])\n",
    "\n",
    "\n",
    "\n"
   ]
  },
  {
   "cell_type": "code",
   "execution_count": null,
   "id": "364b6b6f-562f-48c0-9405-7a6ba7a79240",
   "metadata": {},
   "outputs": [],
   "source": [
    "from sep_plot import Graph\n",
    "Graph(zcompare)"
   ]
  },
  {
   "cell_type": "code",
   "execution_count": null,
   "id": "91d1865f-b851-488c-b91f-d72c91a2224d",
   "metadata": {},
   "outputs": [],
   "source": []
  },
  {
   "cell_type": "code",
   "execution_count": null,
   "id": "39bf5d0d-9909-4872-b009-329835e9a0dc",
   "metadata": {},
   "outputs": [],
   "source": [
    "jop=Jop(model,data)\n",
    "lap=Lap(model,data)\n",
    "model.zero()\n",
    "eps=.001\n",
    "prob=ProblemL2LinearReg(model,data,jop,eps,reg_op=lap)\n",
    "stop=BasicStopper(niter=500)\n",
    "solve=LCGsolver(stop)\n",
    "solve.setDefaults(save_grad=True)\n",
    "solve.run(prob)\n"
   ]
  },
  {
   "cell_type": "code",
   "execution_count": null,
   "id": "979d0103-d791-420c-979c-0850211bfc97",
   "metadata": {},
   "outputs": [],
   "source": [
    "import holoviews as hv\n",
    "hv.extension('bokeh','matplotlib')\n",
    "Grey(prob.model)"
   ]
  },
  {
   "cell_type": "code",
   "execution_count": null,
   "id": "d5cb96df-485e-4c40-9ca8-c58e2cf2c166",
   "metadata": {},
   "outputs": [],
   "source": [
    "import holoviews as hv\n",
    "hv.extension('bokeh','matplotlib')\n",
    "Grey(prob.res.vecs[0])+Grey(prob.res.vecs[1])"
   ]
  },
  {
   "cell_type": "code",
   "execution_count": null,
   "id": "5a6bc7b4-9f7a-4319-ac67-c30d72849f93",
   "metadata": {},
   "outputs": [],
   "source": [
    "print(prob.get_model()[:3,:3])\n"
   ]
  },
  {
   "cell_type": "code",
   "execution_count": null,
   "id": "6d2218a9-cc0f-4b02-8dbc-ef70c5f8d14e",
   "metadata": {
    "scrolled": true
   },
   "outputs": [],
   "source": []
  },
  {
   "cell_type": "code",
   "execution_count": null,
   "id": "ec919fcb-5826-4a13-9755-b31b713f7532",
   "metadata": {},
   "outputs": [],
   "source": []
  }
 ],
 "metadata": {
  "kernelspec": {
   "display_name": "Python 3 (ipykernel)",
   "language": "python",
   "name": "python3"
  },
  "language_info": {
   "codemirror_mode": {
    "name": "ipython",
    "version": 3
   },
   "file_extension": ".py",
   "mimetype": "text/x-python",
   "name": "python",
   "nbconvert_exporter": "python",
   "pygments_lexer": "ipython3",
   "version": "3.9.9"
  }
 },
 "nbformat": 4,
 "nbformat_minor": 5
}
